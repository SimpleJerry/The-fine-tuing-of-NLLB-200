{
 "cells": [
  {
   "cell_type": "raw",
   "id": "6cb62a25-f9dc-4ab0-ad41-925ad49d350d",
   "metadata": {},
   "source": [
    "Environment Setup:"
   ]
  },
  {
   "cell_type": "code",
   "id": "b217e314-3a45-4abb-bbf4-fd1b3901bc2b",
   "metadata": {
    "scrolled": true,
    "ExecuteTime": {
     "end_time": "2024-09-13T06:26:37.617888Z",
     "start_time": "2024-09-13T06:26:35.862113Z"
    }
   },
   "source": [
    "#安装transformers库\n",
    "!pip install transformers accelerate scikit-learn numpy pandas openpyxl nltk"
   ],
   "outputs": [
    {
     "name": "stdout",
     "output_type": "stream",
     "text": [
      "Requirement already satisfied: transformers in d:\\program files\\python311\\lib\\site-packages (4.44.2)\n",
      "Requirement already satisfied: accelerate in d:\\program files\\python311\\lib\\site-packages (0.34.2)\n",
      "Requirement already satisfied: scikit-learn in d:\\program files\\python311\\lib\\site-packages (1.5.2)\n",
      "Requirement already satisfied: numpy in d:\\program files\\python311\\lib\\site-packages (2.1.1)\n",
      "Requirement already satisfied: pandas in d:\\program files\\python311\\lib\\site-packages (2.2.2)\n",
      "Requirement already satisfied: openpyxl in d:\\program files\\python311\\lib\\site-packages (3.1.5)\n",
      "Requirement already satisfied: nltk in d:\\program files\\python311\\lib\\site-packages (3.9.1)\n",
      "Requirement already satisfied: filelock in d:\\program files\\python311\\lib\\site-packages (from transformers) (3.16.0)\n",
      "Requirement already satisfied: huggingface-hub<1.0,>=0.23.2 in d:\\program files\\python311\\lib\\site-packages (from transformers) (0.24.7)\n",
      "Requirement already satisfied: packaging>=20.0 in d:\\program files\\python311\\lib\\site-packages (from transformers) (24.1)\n",
      "Requirement already satisfied: pyyaml>=5.1 in d:\\program files\\python311\\lib\\site-packages (from transformers) (6.0.2)\n",
      "Requirement already satisfied: regex!=2019.12.17 in d:\\program files\\python311\\lib\\site-packages (from transformers) (2024.9.11)\n",
      "Requirement already satisfied: requests in d:\\program files\\python311\\lib\\site-packages (from transformers) (2.32.3)\n",
      "Requirement already satisfied: safetensors>=0.4.1 in d:\\program files\\python311\\lib\\site-packages (from transformers) (0.4.5)\n",
      "Requirement already satisfied: tokenizers<0.20,>=0.19 in d:\\program files\\python311\\lib\\site-packages (from transformers) (0.19.1)\n",
      "Requirement already satisfied: tqdm>=4.27 in d:\\program files\\python311\\lib\\site-packages (from transformers) (4.66.5)\n",
      "Requirement already satisfied: psutil in d:\\program files\\python311\\lib\\site-packages (from accelerate) (6.0.0)\n",
      "Requirement already satisfied: torch>=1.10.0 in d:\\program files\\python311\\lib\\site-packages (from accelerate) (2.4.1+cu124)\n",
      "Requirement already satisfied: scipy>=1.6.0 in d:\\program files\\python311\\lib\\site-packages (from scikit-learn) (1.14.1)\n",
      "Requirement already satisfied: joblib>=1.2.0 in d:\\program files\\python311\\lib\\site-packages (from scikit-learn) (1.4.2)\n",
      "Requirement already satisfied: threadpoolctl>=3.1.0 in d:\\program files\\python311\\lib\\site-packages (from scikit-learn) (3.5.0)\n",
      "Requirement already satisfied: python-dateutil>=2.8.2 in d:\\program files\\python311\\lib\\site-packages (from pandas) (2.9.0.post0)\n",
      "Requirement already satisfied: pytz>=2020.1 in d:\\program files\\python311\\lib\\site-packages (from pandas) (2024.2)\n",
      "Requirement already satisfied: tzdata>=2022.7 in d:\\program files\\python311\\lib\\site-packages (from pandas) (2024.1)\n",
      "Requirement already satisfied: et-xmlfile in d:\\program files\\python311\\lib\\site-packages (from openpyxl) (1.1.0)\n",
      "Requirement already satisfied: click in d:\\program files\\python311\\lib\\site-packages (from nltk) (8.1.7)\n",
      "Requirement already satisfied: fsspec>=2023.5.0 in d:\\program files\\python311\\lib\\site-packages (from huggingface-hub<1.0,>=0.23.2->transformers) (2024.9.0)\n",
      "Requirement already satisfied: typing-extensions>=3.7.4.3 in d:\\program files\\python311\\lib\\site-packages (from huggingface-hub<1.0,>=0.23.2->transformers) (4.12.2)\n",
      "Requirement already satisfied: six>=1.5 in d:\\program files\\python311\\lib\\site-packages (from python-dateutil>=2.8.2->pandas) (1.16.0)\n",
      "Requirement already satisfied: sympy in d:\\program files\\python311\\lib\\site-packages (from torch>=1.10.0->accelerate) (1.13.2)\n",
      "Requirement already satisfied: networkx in d:\\program files\\python311\\lib\\site-packages (from torch>=1.10.0->accelerate) (3.3)\n",
      "Requirement already satisfied: jinja2 in d:\\program files\\python311\\lib\\site-packages (from torch>=1.10.0->accelerate) (3.1.4)\n",
      "Requirement already satisfied: colorama in d:\\program files\\python311\\lib\\site-packages (from tqdm>=4.27->transformers) (0.4.6)\n",
      "Requirement already satisfied: charset-normalizer<4,>=2 in d:\\program files\\python311\\lib\\site-packages (from requests->transformers) (3.3.2)\n",
      "Requirement already satisfied: idna<4,>=2.5 in d:\\program files\\python311\\lib\\site-packages (from requests->transformers) (3.8)\n",
      "Requirement already satisfied: urllib3<3,>=1.21.1 in d:\\program files\\python311\\lib\\site-packages (from requests->transformers) (2.2.3)\n",
      "Requirement already satisfied: certifi>=2017.4.17 in d:\\program files\\python311\\lib\\site-packages (from requests->transformers) (2024.8.30)\n",
      "Requirement already satisfied: MarkupSafe>=2.0 in d:\\program files\\python311\\lib\\site-packages (from jinja2->torch>=1.10.0->accelerate) (2.1.5)\n",
      "Requirement already satisfied: mpmath<1.4,>=1.1.0 in d:\\program files\\python311\\lib\\site-packages (from sympy->torch>=1.10.0->accelerate) (1.3.0)\n"
     ]
    }
   ],
   "execution_count": 1
  },
  {
   "metadata": {
    "ExecuteTime": {
     "end_time": "2024-09-13T06:26:41.017192Z",
     "start_time": "2024-09-13T06:26:37.987973Z"
    }
   },
   "cell_type": "code",
   "source": [
    "import torch\n",
    "\n",
    "print(torch.cuda.is_available())"
   ],
   "id": "d398cd96eebb1fc8",
   "outputs": [
    {
     "name": "stdout",
     "output_type": "stream",
     "text": [
      "True\n"
     ]
    }
   ],
   "execution_count": 2
  },
  {
   "cell_type": "markdown",
   "id": "faa2d71c2c68a230",
   "metadata": {},
   "source": [
    "Load the tokenizer:"
   ]
  },
  {
   "cell_type": "code",
   "id": "a3e591ab0d8c7532",
   "metadata": {
    "collapsed": false,
    "jupyter": {
     "outputs_hidden": false
    },
    "tags": [],
    "ExecuteTime": {
     "end_time": "2024-09-13T06:26:41.121453Z",
     "start_time": "2024-09-13T06:26:41.118215Z"
    }
   },
   "source": [
    "import os\n",
    "\n",
    "data_disk_dir = \"autodl-tmp\"  # 数据盘dir（云GPU平台）\n",
    "model_name = \"nllb-200-distilled-600M\"\n",
    "model_dir = os.path.join(data_disk_dir, model_name)"
   ],
   "outputs": [],
   "execution_count": 3
  },
  {
   "cell_type": "code",
   "id": "772dbf8a-eb10-4a50-9b1e-683a973649da",
   "metadata": {
    "ExecuteTime": {
     "end_time": "2024-09-13T06:26:42.863282Z",
     "start_time": "2024-09-13T06:26:41.149473Z"
    }
   },
   "source": [
    "from transformers import AutoTokenizer\n",
    "\n",
    "tokenizer = AutoTokenizer.from_pretrained(model_dir, tgt_lang=None)"
   ],
   "outputs": [
    {
     "name": "stderr",
     "output_type": "stream",
     "text": [
      "D:\\Python-Projects\\The-fine-tuing-of-NLLB-200\\venv\\Lib\\site-packages\\transformers\\tokenization_utils_base.py:1601: FutureWarning: `clean_up_tokenization_spaces` was not set. It will be set to `True` by default. This behavior will be depracted in transformers v4.45, and will be then set to `False` by default. For more details check this issue: https://github.com/huggingface/transformers/issues/31884\n",
      "  warnings.warn(\n"
     ]
    }
   ],
   "execution_count": 4
  },
  {
   "cell_type": "markdown",
   "id": "c0064f69-3dcc-4b70-9945-a6d8e4ecd1c6",
   "metadata": {},
   "source": [
    "Prepare your training and validation data:"
   ]
  },
  {
   "cell_type": "code",
   "id": "104c0cf739ab273c",
   "metadata": {
    "collapsed": false,
    "jupyter": {
     "outputs_hidden": false
    },
    "tags": [],
    "ExecuteTime": {
     "end_time": "2024-09-13T06:26:42.952821Z",
     "start_time": "2024-09-13T06:26:42.949822Z"
    }
   },
   "source": [
    "data_dir = \"data/027.한국어-중국어_번역_말뭉치_1/01.데이터\"\n",
    "csv_train = os.path.join(data_dir, \"1.Training/원천데이터/ko2zh_patent_1_training.csv\")\n",
    "csv_valid = os.path.join(data_dir, \"2.Validation/원천데이터/ko2zh_patent_2_validation.csv\")"
   ],
   "outputs": [],
   "execution_count": 5
  },
  {
   "cell_type": "code",
   "id": "7a503105-8bce-44cc-a840-fbd3ebf8924e",
   "metadata": {
    "ExecuteTime": {
     "end_time": "2024-09-13T06:26:43.013160Z",
     "start_time": "2024-09-13T06:26:43.009904Z"
    }
   },
   "source": [
    "rename_dict = {\"중국어\": \"zho_Hans\", \"한국어\": \"kor_Hang\"}"
   ],
   "outputs": [],
   "execution_count": 6
  },
  {
   "cell_type": "code",
   "id": "e9d46a4e-c959-4431-a1bc-e407723078c3",
   "metadata": {
    "ExecuteTime": {
     "end_time": "2024-09-13T06:26:44.544842Z",
     "start_time": "2024-09-13T06:26:43.064172Z"
    }
   },
   "source": [
    "import pandas as pd\n",
    "\n",
    "#load Training Data\n",
    "df_train = pd.read_csv(csv_train)[rename_dict.keys()]\n",
    "df_train.rename(columns=rename_dict, inplace=True)  # rename the columns\n",
    "\n",
    "#load Validation Data\n",
    "df_valid = pd.read_csv(csv_valid)[rename_dict.keys()]\n",
    "df_valid.rename(columns=rename_dict, inplace=True)  # rename the columns"
   ],
   "outputs": [],
   "execution_count": 7
  },
  {
   "cell_type": "code",
   "id": "22c9918d-2b9d-44d5-b8b6-33258bc8656f",
   "metadata": {
    "ExecuteTime": {
     "end_time": "2024-09-13T06:26:44.612174Z",
     "start_time": "2024-09-13T06:26:44.602859Z"
    }
   },
   "source": [
    "df_train"
   ],
   "outputs": [
    {
     "data": {
      "text/plain": [
       "                                                 zho_Hans  \\\n",
       "0       本发明可以检测通过插头供应的主电源的频率特性,并为使从接近该频率零电位的上升电位连接到继电器...   \n",
       "1       本发明是关于蜂窝电话的发明,当由于手机的移动而离开服务区域超过预定时间时自动关闭电源,并以预...   \n",
       "2           另外,因为不执行利用单元多功能复制的资源管理,所以存在无法向多个用户提供同一个音调的缺点。   \n",
       "3                                安装有编码器的电动机,可以测量回转量和回转速度。   \n",
       "4       本发明是关于一种用于保护真空泵的电动机,免受半导体溅射(Sputtering)设备中的过电流...   \n",
       "...                                                   ...   \n",
       "119995                本发明涉及一种用于在提供背景声音呼叫服务时改善背景音乐的声音质量方法。   \n",
       "119996                      可以将电流释放阻抗设置得较低,提供一种高度方便的电池装置。   \n",
       "119997           本发明的目的是优化密封构件的布置,该密封构件阻止工艺腔体的内部与大气之间的连通。   \n",
       "119998               另外,本发明包括固定体缓冲装置,因此减轻冲击来获得防止绝缘体破裂的效果。   \n",
       "119999  在常规的多输入谐振DC-DC转换器中,由于不能在变压器的次级侧上使用感性负载,因此难以提高效...   \n",
       "\n",
       "                                                 kor_Hang  \n",
       "0       본 발명은 플러그를 통해 공급되는 주전원의 주파수 특성을 검출하여 주파수의 제로전위...  \n",
       "1       본 발명은 셀룰라폰에 관한 것으로, 셀룰라폰의 이동으로 소정시간이상 서어비스 지역을...  \n",
       "2       또한, 셀 멀티 카피 기능을 활용하기 위한 자원 관리를 수행하지 않기 때문에 하나의...  \n",
       "3                   엔코더가 부착된 모터의 경우 회전량과 회전 속도를 측정할 수 있다.  \n",
       "4       본 발명은 반도체 스퍼터링(Sputtering)장비에 있어서, 진공 펌프의 모터를 ...  \n",
       "...                                                   ...  \n",
       "119995  본 발명은 배경음 통화 서비스 제공시에 배경음악의 음질을 향상시키기 위한 방법에 관...  \n",
       "119996    과전류 해제 임피던스를 낮게 설정할 수 있어, 편리성이 높은 배터리 장치를 제공한다.  \n",
       "119997  본 발명의 과제는 처리실 내와 대기의 연통을 차단하는 밀봉 부재의 배치의 적정화를 ...  \n",
       "119998  또한, 본 발명은 고정체 완충수단이 포함되어 있어 충격을 완화시킴으로써 애자 파손을...  \n",
       "119999  종래 기술에 의한 다중 입력 공진형 DC-DC 컨버터에서는 트랜스포머의 2차 측에 ...  \n",
       "\n",
       "[120000 rows x 2 columns]"
      ],
      "text/html": [
       "<div>\n",
       "<style scoped>\n",
       "    .dataframe tbody tr th:only-of-type {\n",
       "        vertical-align: middle;\n",
       "    }\n",
       "\n",
       "    .dataframe tbody tr th {\n",
       "        vertical-align: top;\n",
       "    }\n",
       "\n",
       "    .dataframe thead th {\n",
       "        text-align: right;\n",
       "    }\n",
       "</style>\n",
       "<table border=\"1\" class=\"dataframe\">\n",
       "  <thead>\n",
       "    <tr style=\"text-align: right;\">\n",
       "      <th></th>\n",
       "      <th>zho_Hans</th>\n",
       "      <th>kor_Hang</th>\n",
       "    </tr>\n",
       "  </thead>\n",
       "  <tbody>\n",
       "    <tr>\n",
       "      <th>0</th>\n",
       "      <td>本发明可以检测通过插头供应的主电源的频率特性,并为使从接近该频率零电位的上升电位连接到继电器...</td>\n",
       "      <td>본 발명은 플러그를 통해 공급되는 주전원의 주파수 특성을 검출하여 주파수의 제로전위...</td>\n",
       "    </tr>\n",
       "    <tr>\n",
       "      <th>1</th>\n",
       "      <td>本发明是关于蜂窝电话的发明,当由于手机的移动而离开服务区域超过预定时间时自动关闭电源,并以预...</td>\n",
       "      <td>본 발명은 셀룰라폰에 관한 것으로, 셀룰라폰의 이동으로 소정시간이상 서어비스 지역을...</td>\n",
       "    </tr>\n",
       "    <tr>\n",
       "      <th>2</th>\n",
       "      <td>另外,因为不执行利用单元多功能复制的资源管理,所以存在无法向多个用户提供同一个音调的缺点。</td>\n",
       "      <td>또한, 셀 멀티 카피 기능을 활용하기 위한 자원 관리를 수행하지 않기 때문에 하나의...</td>\n",
       "    </tr>\n",
       "    <tr>\n",
       "      <th>3</th>\n",
       "      <td>安装有编码器的电动机,可以测量回转量和回转速度。</td>\n",
       "      <td>엔코더가 부착된 모터의 경우 회전량과 회전 속도를 측정할 수 있다.</td>\n",
       "    </tr>\n",
       "    <tr>\n",
       "      <th>4</th>\n",
       "      <td>本发明是关于一种用于保护真空泵的电动机,免受半导体溅射(Sputtering)设备中的过电流...</td>\n",
       "      <td>본 발명은 반도체 스퍼터링(Sputtering)장비에 있어서, 진공 펌프의 모터를 ...</td>\n",
       "    </tr>\n",
       "    <tr>\n",
       "      <th>...</th>\n",
       "      <td>...</td>\n",
       "      <td>...</td>\n",
       "    </tr>\n",
       "    <tr>\n",
       "      <th>119995</th>\n",
       "      <td>本发明涉及一种用于在提供背景声音呼叫服务时改善背景音乐的声音质量方法。</td>\n",
       "      <td>본 발명은 배경음 통화 서비스 제공시에 배경음악의 음질을 향상시키기 위한 방법에 관...</td>\n",
       "    </tr>\n",
       "    <tr>\n",
       "      <th>119996</th>\n",
       "      <td>可以将电流释放阻抗设置得较低,提供一种高度方便的电池装置。</td>\n",
       "      <td>과전류 해제 임피던스를 낮게 설정할 수 있어, 편리성이 높은 배터리 장치를 제공한다.</td>\n",
       "    </tr>\n",
       "    <tr>\n",
       "      <th>119997</th>\n",
       "      <td>本发明的目的是优化密封构件的布置,该密封构件阻止工艺腔体的内部与大气之间的连通。</td>\n",
       "      <td>본 발명의 과제는 처리실 내와 대기의 연통을 차단하는 밀봉 부재의 배치의 적정화를 ...</td>\n",
       "    </tr>\n",
       "    <tr>\n",
       "      <th>119998</th>\n",
       "      <td>另外,本发明包括固定体缓冲装置,因此减轻冲击来获得防止绝缘体破裂的效果。</td>\n",
       "      <td>또한, 본 발명은 고정체 완충수단이 포함되어 있어 충격을 완화시킴으로써 애자 파손을...</td>\n",
       "    </tr>\n",
       "    <tr>\n",
       "      <th>119999</th>\n",
       "      <td>在常规的多输入谐振DC-DC转换器中,由于不能在变压器的次级侧上使用感性负载,因此难以提高效...</td>\n",
       "      <td>종래 기술에 의한 다중 입력 공진형 DC-DC 컨버터에서는 트랜스포머의 2차 측에 ...</td>\n",
       "    </tr>\n",
       "  </tbody>\n",
       "</table>\n",
       "<p>120000 rows × 2 columns</p>\n",
       "</div>"
      ]
     },
     "execution_count": 8,
     "metadata": {},
     "output_type": "execute_result"
    }
   ],
   "execution_count": 8
  },
  {
   "cell_type": "code",
   "id": "879de305-49f1-46c3-9046-b9406323b8ee",
   "metadata": {
    "ExecuteTime": {
     "end_time": "2024-09-13T06:26:44.691864Z",
     "start_time": "2024-09-13T06:26:44.685045Z"
    }
   },
   "source": [
    "df_valid"
   ],
   "outputs": [
    {
     "data": {
      "text/plain": [
       "                                                zho_Hans  \\\n",
       "0         本方案的接触面膨胀型热熔断器涉及用于加热装置或加热部的接触面膨胀并且改善接触状态的热熔断器。   \n",
       "1                                   可以沿着切割线高精度地切割要加工的物体。   \n",
       "2      根据本发明,有效地清洁了铜(Cu)布线工艺中产生的受污染的晶片,从而使铜(Cu)污染导致的晶...   \n",
       "3      本方案公开了使用无电极灯的照明灯具,该无电极灯通过高频感应线圈的感应电动势使磷光体发出由放电...   \n",
       "4              本发明涉及一种单向通信设备,其使得能够在发送终端与接收终端之间进行可靠的单向通信。   \n",
       "...                                                  ...   \n",
       "14995  本方案涉及一种电磁感应加热装置,更具体来说是涉及了识别用于炊具的容器,并控制该电磁感应加热装...   \n",
       "14996  本方案涉及低压绕线管的扇形部分和模制壳体之间的组合结构,是为了在低压绕线管的扇形部分形成爪来...   \n",
       "14997  因此,由于无需诸如单独的焊接机或夹具的设备,仅在简单地插入组装工时的情况下进行旋钮的安装,因...   \n",
       "14998    根据本发明,具有无需再备用电源插座中安装另外的开关,而是利用无线开关来控制备用电源插座的优点。   \n",
       "14999                            本发明是关于利用短信确认网页邮件的方法及系统。   \n",
       "\n",
       "                                                kor_Hang  \n",
       "0      본 고안의 접면확장 감온퓨즈는, 발열기구나 발열부위에 대한 접촉면을 확장시킴과 동시...  \n",
       "1                 절단 예정 라인에 따른 가공 대상물의 고정밀도 절단이 가능하게 된다.  \n",
       "2      본 발명에 의하면, 구리(Cu) 배선 공정에서 발생하는 오염된 웨이퍼를 효율적으로 ...  \n",
       "3      본 고안은 고주파 유도 코일의 유도 기전력에 의하여 방전관내의 플라즈마 발생에 의한...  \n",
       "4      본 발명은 단방향 통신 장치로서, 송신 단말기와 수신 단말기 사이에 신뢰성 있는 단...  \n",
       "...                                                  ...  \n",
       "14995  본 고안은 전자 유도가열장치로서, 더욱 상세하게는 조리기에 사용되는 용기를 식별하여...  \n",
       "14996  본 고안은 저압보빈의 파이부와 몰딩케이스의 결합구조에 관한 것으로, 저압보빈의 파이...  \n",
       "14997  따라서 별도의 용착기나 지그 등의 장비없이 간단히 끼워주는 조립공수만으로 노브의 설...  \n",
       "14998  본 발명에 따르면 대기전력콘센트에 별도로 스위치를 설치하지 않고, 무선스위치를 이용...  \n",
       "14999          본 발명은 단문메시지를 이용한 웹메일 확인 방법 및 시스템에 관한 것이다.  \n",
       "\n",
       "[15000 rows x 2 columns]"
      ],
      "text/html": [
       "<div>\n",
       "<style scoped>\n",
       "    .dataframe tbody tr th:only-of-type {\n",
       "        vertical-align: middle;\n",
       "    }\n",
       "\n",
       "    .dataframe tbody tr th {\n",
       "        vertical-align: top;\n",
       "    }\n",
       "\n",
       "    .dataframe thead th {\n",
       "        text-align: right;\n",
       "    }\n",
       "</style>\n",
       "<table border=\"1\" class=\"dataframe\">\n",
       "  <thead>\n",
       "    <tr style=\"text-align: right;\">\n",
       "      <th></th>\n",
       "      <th>zho_Hans</th>\n",
       "      <th>kor_Hang</th>\n",
       "    </tr>\n",
       "  </thead>\n",
       "  <tbody>\n",
       "    <tr>\n",
       "      <th>0</th>\n",
       "      <td>本方案的接触面膨胀型热熔断器涉及用于加热装置或加热部的接触面膨胀并且改善接触状态的热熔断器。</td>\n",
       "      <td>본 고안의 접면확장 감온퓨즈는, 발열기구나 발열부위에 대한 접촉면을 확장시킴과 동시...</td>\n",
       "    </tr>\n",
       "    <tr>\n",
       "      <th>1</th>\n",
       "      <td>可以沿着切割线高精度地切割要加工的物体。</td>\n",
       "      <td>절단 예정 라인에 따른 가공 대상물의 고정밀도 절단이 가능하게 된다.</td>\n",
       "    </tr>\n",
       "    <tr>\n",
       "      <th>2</th>\n",
       "      <td>根据本发明,有效地清洁了铜(Cu)布线工艺中产生的受污染的晶片,从而使铜(Cu)污染导致的晶...</td>\n",
       "      <td>본 발명에 의하면, 구리(Cu) 배선 공정에서 발생하는 오염된 웨이퍼를 효율적으로 ...</td>\n",
       "    </tr>\n",
       "    <tr>\n",
       "      <th>3</th>\n",
       "      <td>本方案公开了使用无电极灯的照明灯具,该无电极灯通过高频感应线圈的感应电动势使磷光体发出由放电...</td>\n",
       "      <td>본 고안은 고주파 유도 코일의 유도 기전력에 의하여 방전관내의 플라즈마 발생에 의한...</td>\n",
       "    </tr>\n",
       "    <tr>\n",
       "      <th>4</th>\n",
       "      <td>本发明涉及一种单向通信设备,其使得能够在发送终端与接收终端之间进行可靠的单向通信。</td>\n",
       "      <td>본 발명은 단방향 통신 장치로서, 송신 단말기와 수신 단말기 사이에 신뢰성 있는 단...</td>\n",
       "    </tr>\n",
       "    <tr>\n",
       "      <th>...</th>\n",
       "      <td>...</td>\n",
       "      <td>...</td>\n",
       "    </tr>\n",
       "    <tr>\n",
       "      <th>14995</th>\n",
       "      <td>本方案涉及一种电磁感应加热装置,更具体来说是涉及了识别用于炊具的容器,并控制该电磁感应加热装...</td>\n",
       "      <td>본 고안은 전자 유도가열장치로서, 더욱 상세하게는 조리기에 사용되는 용기를 식별하여...</td>\n",
       "    </tr>\n",
       "    <tr>\n",
       "      <th>14996</th>\n",
       "      <td>本方案涉及低压绕线管的扇形部分和模制壳体之间的组合结构,是为了在低压绕线管的扇形部分形成爪来...</td>\n",
       "      <td>본 고안은 저압보빈의 파이부와 몰딩케이스의 결합구조에 관한 것으로, 저압보빈의 파이...</td>\n",
       "    </tr>\n",
       "    <tr>\n",
       "      <th>14997</th>\n",
       "      <td>因此,由于无需诸如单独的焊接机或夹具的设备,仅在简单地插入组装工时的情况下进行旋钮的安装,因...</td>\n",
       "      <td>따라서 별도의 용착기나 지그 등의 장비없이 간단히 끼워주는 조립공수만으로 노브의 설...</td>\n",
       "    </tr>\n",
       "    <tr>\n",
       "      <th>14998</th>\n",
       "      <td>根据本发明,具有无需再备用电源插座中安装另外的开关,而是利用无线开关来控制备用电源插座的优点。</td>\n",
       "      <td>본 발명에 따르면 대기전력콘센트에 별도로 스위치를 설치하지 않고, 무선스위치를 이용...</td>\n",
       "    </tr>\n",
       "    <tr>\n",
       "      <th>14999</th>\n",
       "      <td>本发明是关于利用短信确认网页邮件的方法及系统。</td>\n",
       "      <td>본 발명은 단문메시지를 이용한 웹메일 확인 방법 및 시스템에 관한 것이다.</td>\n",
       "    </tr>\n",
       "  </tbody>\n",
       "</table>\n",
       "<p>15000 rows × 2 columns</p>\n",
       "</div>"
      ]
     },
     "execution_count": 9,
     "metadata": {},
     "output_type": "execute_result"
    }
   ],
   "execution_count": 9
  },
  {
   "cell_type": "markdown",
   "id": "bce2dcf809532ea9",
   "metadata": {},
   "source": [
    "find the max length of the encodings"
   ]
  },
  {
   "cell_type": "code",
   "id": "2f053fd6315b47e9",
   "metadata": {
    "collapsed": false,
    "jupyter": {
     "outputs_hidden": false
    },
    "tags": [],
    "ExecuteTime": {
     "end_time": "2024-09-13T06:26:46.001314Z",
     "start_time": "2024-09-13T06:26:44.749551Z"
    }
   },
   "source": [
    "from sklearn.model_selection import train_test_split\n",
    "\n",
    "language_x = \"zho_Hans\"\n",
    "language_y = \"kor_Hang\"\n",
    "x_train = df_train[language_x].to_list()\n",
    "y_train = df_train[language_y].to_list()\n",
    "x_valid = df_valid[language_x].to_list()\n",
    "y_valid = df_valid[language_y].to_list()\n",
    "\n",
    "# 从训练集中抽出测试集，规模与验证集一致\n",
    "x_train, x_test, y_train, y_test = train_test_split(x_train, y_train, test_size=len(x_valid), random_state=42)"
   ],
   "outputs": [],
   "execution_count": 10
  },
  {
   "cell_type": "code",
   "id": "61fdc162-e4d7-4dd0-b8f2-0f99ae4bb68d",
   "metadata": {
    "ExecuteTime": {
     "end_time": "2024-09-13T06:26:46.546351Z",
     "start_time": "2024-09-13T06:26:46.037205Z"
    }
   },
   "source": [
    "# 保存到 CSV 文件\n",
    "import pandas as pd\n",
    "\n",
    "# 创建 DataFrame\n",
    "train_df = pd.DataFrame({language_x: x_train, language_y: y_train})\n",
    "valid_df = pd.DataFrame({language_x: x_valid, language_y: y_valid})\n",
    "test_df = pd.DataFrame({language_x: x_test, language_y: y_test})\n",
    "\n",
    "train_df.to_csv('data/train_data.csv', index=False)\n",
    "valid_df.to_csv('data/valid_data.csv', index=False)\n",
    "test_df.to_csv('data/test_data.csv', index=False)"
   ],
   "outputs": [],
   "execution_count": 11
  },
  {
   "cell_type": "markdown",
   "id": "60b0d238363af592",
   "metadata": {},
   "source": [
    "Convert your encodings into torch Datasets object:"
   ]
  },
  {
   "cell_type": "raw",
   "id": "180d0cf0-36a2-4156-8cbd-e712908d0e47",
   "metadata": {},
   "source": [
    "确定tokenizer的max_length：\n",
    "理由：\n",
    "1.调整 model_max_length 可以缩短训练时间和减少内存使用，尤其当你的数据集的最大长度远小于模型默认的最大长度时。\n",
    "2.调整是暂时的：在微调过程中有效，但如果你想要永久性地保存这个设定，需要在保存和加载模型时确保配置更新。"
   ]
  },
  {
   "cell_type": "code",
   "id": "9f7d25f4-a2eb-4680-9764-2d28670cadca",
   "metadata": {
    "ExecuteTime": {
     "end_time": "2024-09-13T06:27:14.025888Z",
     "start_time": "2024-09-13T06:26:46.558356Z"
    }
   },
   "source": [
    "import numpy as np\n",
    "from tqdm.notebook import tqdm\n",
    "\n",
    "# 假设你已经有所有长度的列表\n",
    "lengths = []\n",
    "\n",
    "texts_all = x_train + y_train + x_valid + y_valid + x_test + y_test\n",
    "for text in tqdm(texts_all):\n",
    "    tokenized_text = tokenizer(text, truncation=False, padding=False)\n",
    "    lengths.append(len(tokenized_text['input_ids']))\n",
    "\n",
    "# 使用95%分位数来确定max_length\n",
    "max_length = int(np.percentile(lengths, 95))\n",
    "print(f\"The 95% percentile length in the dataset is: {max_length}\")\n",
    "\n",
    "tokenizer.max_length = max_length"
   ],
   "outputs": [
    {
     "data": {
      "text/plain": [
       "  0%|          | 0/270000 [00:00<?, ?it/s]"
      ],
      "application/vnd.jupyter.widget-view+json": {
       "version_major": 2,
       "version_minor": 0,
       "model_id": "2fc518ad503e4c239439514926c78dad"
      }
     },
     "metadata": {},
     "output_type": "display_data"
    },
    {
     "name": "stdout",
     "output_type": "stream",
     "text": [
      "The 95% percentile length in the dataset is: 66\n"
     ]
    }
   ],
   "execution_count": 12
  },
  {
   "cell_type": "code",
   "id": "b2b3c899-5e5a-432f-8daa-dc4543bf0427",
   "metadata": {
    "ExecuteTime": {
     "end_time": "2024-09-13T06:29:48.485874Z",
     "start_time": "2024-09-13T06:27:14.059662Z"
    }
   },
   "source": [
    "# Note: we're now creating separate encodings for the inputs and outputs.\n",
    "# truncation: truncate the sequence to a shorter length, because sometimes a sequence may be too long for a model to handle\n",
    "# padding: Padding is a strategy for ensuring tensors are rectangular by adding a special padding token to shorter sentences.\n",
    "#     True or 'longest': Pad to the longest sequence in the batch (or no padding if only a single sequence if provided).\n",
    "#     'max_length': Pad to a maximum length specified with the argument max_length or to the maximum acceptable input length for the model if that argument is not provided.\n",
    "#     False or 'do_not_pad' (default): No padding (i.e., can output a batch with sequences of different lengths).\n",
    "# return_tensors: If set 'pt', will return tensors instead of list of python integers. Acceptable values are PyTorch torch.Tensor objects.\n",
    "# max_length (int, optional): Controls the maximum length to use by one of the truncation/padding parameters.\n",
    "tokenizer.src_lang = language_x\n",
    "tokenizer.tgt_lang = language_y\n",
    "print(\"tokenizing - source:{}, target:{}\".format(language_x, language_y))\n",
    "print(\"train encodings...\")\n",
    "train_encodings = tokenizer(x_train, text_target=y_train, truncation=True, padding=\"max_length\", return_tensors=\"pt\")\n",
    "print(\"valid encodings...\")\n",
    "valid_encodings = tokenizer(x_valid, text_target=y_valid, truncation=True, padding=\"max_length\", return_tensors=\"pt\")\n",
    "print(\"test encodings...\")\n",
    "test_encodings = tokenizer(x_test, text_target=y_test, truncation=True, padding=\"max_length\", return_tensors=\"pt\")"
   ],
   "outputs": [
    {
     "name": "stdout",
     "output_type": "stream",
     "text": [
      "tokenizing - source:zho_Hans, target:kor_Hang\n",
      "train encodings...\n",
      "valid encodings...\n",
      "test encodings...\n"
     ]
    }
   ],
   "execution_count": 13
  },
  {
   "cell_type": "code",
   "id": "9cbba6ff-a7e2-4d0d-bb9f-f92f4dfc797e",
   "metadata": {},
   "source": [
    "import torch\n",
    "\n",
    "\n",
    "class TranslationDataset(torch.utils.data.Dataset):\n",
    "    def __init__(self, encodings):\n",
    "        self.encodings = encodings\n",
    "\n",
    "    def __getitem__(self, index):\n",
    "        item = {key: val[index] for key, val in self.encodings.items()}\n",
    "        return item\n",
    "\n",
    "    def __len__(self):\n",
    "        return len(self.encodings[\"input_ids\"])"
   ],
   "outputs": [],
   "execution_count": 14
  },
  {
   "cell_type": "code",
   "id": "4e174377-b96b-449d-a5f8-e8dcda289d59",
   "metadata": {
    "ExecuteTime": {
     "end_time": "2024-09-13T06:29:49.501149Z",
     "start_time": "2024-09-13T06:29:49.498205Z"
    }
   },
   "source": [
    "train_dataset = TranslationDataset(train_encodings)\n",
    "valid_dataset = TranslationDataset(valid_encodings)\n",
    "test_dataset = TranslationDataset(test_encodings)"
   ],
   "outputs": [],
   "execution_count": 15
  },
  {
   "cell_type": "markdown",
   "id": "2eace3117637b2e4",
   "metadata": {},
   "source": [
    "Load the pretrained model:"
   ]
  },
  {
   "cell_type": "code",
   "id": "a645a12389e7bf5f",
   "metadata": {
    "collapsed": false,
    "is_executing": true,
    "jupyter": {
     "outputs_hidden": false
    },
    "tags": [],
    "ExecuteTime": {
     "end_time": "2024-09-13T06:29:53.298150Z",
     "start_time": "2024-09-13T06:29:49.558442Z"
    }
   },
   "source": [
    "from transformers import AutoModelForSeq2SeqLM\n",
    "\n",
    "model = AutoModelForSeq2SeqLM.from_pretrained(model_dir, device_map=\"auto\")"
   ],
   "outputs": [],
   "execution_count": 16
  },
  {
   "cell_type": "markdown",
   "id": "b9edf04b785e4cb9",
   "metadata": {},
   "source": [
    "Define your training arguments and train the model:"
   ]
  },
  {
   "cell_type": "code",
   "id": "d93029063caf5b0c",
   "metadata": {
    "collapsed": false,
    "is_executing": true,
    "jupyter": {
     "outputs_hidden": false
    },
    "tags": [],
    "ExecuteTime": {
     "end_time": "2024-09-13T06:29:53.356348Z",
     "start_time": "2024-09-13T06:29:53.353433Z"
    }
   },
   "source": [
    "new_model_name = \"zh2ko_based_on_{0}\".format(model_name)\n",
    "\n",
    "new_model_dir = os.path.join(data_disk_dir, new_model_name)"
   ],
   "outputs": [],
   "execution_count": 17
  },
  {
   "cell_type": "code",
   "id": "27077c1f4b1abe29",
   "metadata": {
    "collapsed": false,
    "is_executing": true,
    "jupyter": {
     "outputs_hidden": false
    },
    "tags": [],
    "ExecuteTime": {
     "end_time": "2024-09-13T06:29:53.726738Z",
     "start_time": "2024-09-13T06:29:53.409143Z"
    }
   },
   "source": [
    "from transformers import Trainer, TrainingArguments, IntervalStrategy\n",
    "\n",
    "# 每1/5 Epoch处验证、记录、保存一次\n",
    "log_steps = len(x_train) / 5\n",
    "\n",
    "# fp16：半精度运算，启用后提高一倍以上运算速度，不影响loss\n",
    "# gradient_accumulation_steps：steps越大，速度越快，loss越高\n",
    "# gradient_checkpointing：启用后，降低30%左右速度，节省显存2/3\n",
    "# per_device_train_batch_size：size越大，GPU占用率越大，速度越快，loss越高，几乎成正比\n",
    "training_args = TrainingArguments(new_model_dir,\n",
    "                                  num_train_epochs=10,\n",
    "                                  per_device_eval_batch_size=1,\n",
    "                                  per_device_train_batch_size=1,\n",
    "                                  gradient_accumulation_steps=1,\n",
    "                                  gradient_checkpointing=False,\n",
    "                                  fp16=True,\n",
    "                                  warmup_ratio=0.1,\n",
    "                                  eval_strategy=IntervalStrategy.STEPS,\n",
    "                                  eval_steps=log_steps,\n",
    "                                  logging_strategy=IntervalStrategy.STEPS,\n",
    "                                  logging_steps=log_steps,\n",
    "                                  save_strategy=IntervalStrategy.STEPS,\n",
    "                                  save_steps=log_steps,\n",
    "                                  save_total_limit=1,\n",
    "                                  load_best_model_at_end=True\n",
    "                                  )"
   ],
   "outputs": [],
   "execution_count": 18
  },
  {
   "cell_type": "code",
   "id": "f16d4747195f6595",
   "metadata": {
    "collapsed": false,
    "is_executing": true,
    "jupyter": {
     "outputs_hidden": false
    },
    "tags": [],
    "ExecuteTime": {
     "end_time": "2024-09-13T06:29:53.841387Z",
     "start_time": "2024-09-13T06:29:53.777890Z"
    }
   },
   "source": [
    "from transformers import EarlyStoppingCallback\n",
    "\n",
    "\n",
    "# ！！！猜测Transformer的原生Trainer存在显存泄露的问题，根据论坛上的神贴，做出如下修改：\n",
    "# https://discuss.huggingface.co/t/cuda-out-of-memory-when-using-trainer-with-compute-metrics/2941/13\n",
    "def preprocess_logits_for_metrics(logits, labels):\n",
    "    \"\"\"\n",
    "    Original Trainer may have a memory leak. \n",
    "    This is a workaround to avoid storing too many tensors that are not needed.\n",
    "    \"\"\"\n",
    "    pred_ids = torch.argmax(logits[0], dim=-1)\n",
    "    return pred_ids, labels\n",
    "\n",
    "\n",
    "trainer = Trainer(\n",
    "    model=model,  # the instantiated 🤗 Transformers model to be trained\n",
    "    args=training_args,  # training arguments, defined above\n",
    "    train_dataset=train_dataset,  # training dataset\n",
    "    eval_dataset=valid_dataset,  # valid dataset\n",
    "    callbacks=[EarlyStoppingCallback(early_stopping_patience=3)],\n",
    "    preprocess_logits_for_metrics=preprocess_logits_for_metrics\n",
    ")"
   ],
   "outputs": [
    {
     "name": "stderr",
     "output_type": "stream",
     "text": [
      "D:\\Python-Projects\\The-fine-tuing-of-NLLB-200\\venv\\Lib\\site-packages\\accelerate\\accelerator.py:494: FutureWarning: `torch.cuda.amp.GradScaler(args...)` is deprecated. Please use `torch.amp.GradScaler('cuda', args...)` instead.\n",
      "  self.scaler = torch.cuda.amp.GradScaler(**kwargs)\n"
     ]
    }
   ],
   "execution_count": 19
  },
  {
   "cell_type": "raw",
   "id": "abcecbf0-e9de-428c-a366-4b1cf61453be",
   "metadata": {},
   "source": [
    "Test the base model before fine-tuning:"
   ]
  },
  {
   "cell_type": "code",
   "id": "6c799af7-5d54-458c-b4af-6866456347ab",
   "metadata": {
    "ExecuteTime": {
     "end_time": "2024-09-13T06:45:59.585978Z",
     "start_time": "2024-09-13T06:29:53.900221Z"
    }
   },
   "source": [
    "# 在测试数据集上进行预测\n",
    "test_results = trainer.predict(test_dataset)\n",
    "\n",
    "# 获取预测结果\n",
    "predictions = test_results.predictions\n",
    "labels = test_results.label_ids\n",
    "metrics = test_results.metrics"
   ],
   "outputs": [
    {
     "data": {
      "text/plain": [
       "<IPython.core.display.HTML object>"
      ],
      "text/html": []
     },
     "metadata": {},
     "output_type": "display_data"
    }
   ],
   "execution_count": 20
  },
  {
   "cell_type": "code",
   "id": "da5df31d-fbbd-43d6-a28c-254b30fee8d6",
   "metadata": {
    "ExecuteTime": {
     "end_time": "2024-09-13T06:45:59.648661Z",
     "start_time": "2024-09-13T06:45:59.645154Z"
    }
   },
   "source": [
    "# 输出评估指标\n",
    "metrics"
   ],
   "outputs": [
    {
     "data": {
      "text/plain": [
       "{'test_loss': 13.785958290100098,\n",
       " 'test_model_preparation_time': 0.004,\n",
       " 'test_runtime': 965.6763,\n",
       " 'test_samples_per_second': 15.533,\n",
       " 'test_steps_per_second': 15.533}"
      ]
     },
     "execution_count": 21,
     "metadata": {},
     "output_type": "execute_result"
    }
   ],
   "execution_count": 21
  },
  {
   "cell_type": "code",
   "id": "8d9a315c-4e2c-4496-9e65-0c3b60cb2d94",
   "metadata": {
    "ExecuteTime": {
     "end_time": "2024-09-13T06:46:03.160422Z",
     "start_time": "2024-09-13T06:45:59.731681Z"
    }
   },
   "source": [
    "# 解码\n",
    "target_texts_array, references_array = predictions\n",
    "target_texts = [tokenizer.decode(encoding, skip_special_tokens=True) for encoding in target_texts_array]\n",
    "references = [tokenizer.decode(encoding, skip_special_tokens=True) for encoding in references_array]"
   ],
   "outputs": [],
   "execution_count": 22
  },
  {
   "cell_type": "code",
   "id": "0a1f77e9-9268-421c-b894-7b0a639d1827",
   "metadata": {
    "ExecuteTime": {
     "end_time": "2024-09-13T06:46:03.228480Z",
     "start_time": "2024-09-13T06:46:03.212968Z"
    }
   },
   "source": [
    "source_texts = x_test\n",
    "\n",
    "df_result = pd.DataFrame({\n",
    "    \"source_texts\": source_texts,\n",
    "    \"target_texts\": target_texts,\n",
    "    \"references\": references,\n",
    "})\n",
    "df_result"
   ],
   "outputs": [
    {
     "data": {
      "text/plain": [
       "                                            source_texts  \\\n",
       "0      提供了一种通过输出在移动通信终端上显示的附加内容作为广告数据来降低终端的价格并降低通信成本的方法。   \n",
       "1      当在第九步中确定的环境亮度较亮时,将照原样输出在第四,第六和第七步中确定的声音值,并在第十一...   \n",
       "2                           有效地使用带摄像头的手机等中安装的发光二极管(LED)。   \n",
       "3      其涉及在将晶圆传送至工艺腔体的过程和对晶圆进行蚀刻工艺的过程中减少晶圆工艺面污染的半导体装置...   \n",
       "4      其提供有机发光器件,该有机发光器件能够将从有机发光单元发出的光聚集到一个地方以提高光利用效率...   \n",
       "...                                                  ...   \n",
       "14995                                根据本发明的防潮防湿配电箱的构造如下。   \n",
       "14996  本发明为了射频卡与射频终端机间的畅通通信,提出了射频终端机上附加的机械装置和为驱动该装置的电...   \n",
       "14997                   本方案涉及通过发送和接收音响信号来控制设备的无电源远程控制设备。   \n",
       "14998  本发明涉及一种在呼叫中改变用于移动通信终端的FA以根据呼叫期间的系统负载实时地改变终端的FA...   \n",
       "14999     进一步地,铅蓄电池或锂离子电池具有产品的手动选择开关,使用户可以根据需要仅选择该电池并充电。   \n",
       "\n",
       "                                            target_texts  \\\n",
       "0      모바일통신 단말기에서 광고되는 부가 콘텐츠 광고 데이터로 내력함으로써 하여 단말기의...   \n",
       "1      9 99단 확인정된 환경 밝기가 밝 경우, 상기 샘플 4 6 7, 단계 판된 음운드...   \n",
       "2                카메라를착된 전화 등 등에 설치된 LED 광 효과적으로적으로 사용하는.   \n",
       "3      일플를 공 체로 전달송하는 과정과 웨이퍼에 대한재을정을 하는하는 과정에서 웨이퍼 공...   \n",
       "4      유기발광장러 나오는출되는 빛을 한 곳에에 모으시키는서 활용 효율을 높시키고, 이웃접...   \n",
       "...                                                  ...   \n",
       "14995  이 발명에 따라 비동전류 전포  다음과 같습니다 구성되어. an an an an a...   \n",
       "14996  이 발명은 전파카드 RF 단말기간의 통통한 통신을 위해,단말기 첨된 기계장 장치와 ...   \n",
       "14997  이 프로그램은안은 무향 신호호를 전송신신 및 의해 장치기 제어하는 전전력 원격 제어...   \n",
       "14998  이 발명명은 통화 중에 이동 로드 따라 통화으로 통화말기를 FA를 변경하는 호출 이...   \n",
       "14999  더 나아가,,전 배터자 또는 아오온온전지 제품 수동 선택 선택 스위치를 가지고어 사...   \n",
       "\n",
       "                                              references  \n",
       "0      이동통신 단말기에서 표시되는 부가 내용을 광고 데이터로 출력하도록 하여 단말기의 가...  \n",
       "1      상기 제 9 단계에서 판별한 주변 밝기가 밝은 경우, 상기 제 4, 6, 7 단계에...  \n",
       "2                  카메라 부착 휴대 전화기 등에 설치된 LED를 효율적으로 이용한다.  \n",
       "3      웨이퍼를 공정챔버로 이송시키는 과정과 웨이퍼에 식각 공정을 수행하는 과정에서 웨이퍼...  \n",
       "4      유기 발광셀에서 방출되는 빛을 한곳으로 집중시켜 광 이용 효율을 향상시키고, 인접 ...  \n",
       "...                                                  ...  \n",
       "14995                   본 발명에 의한 냉각 방습 배전함은 다음과 같이 구성된다.  \n",
       "14996  본 발명은 RF카드와 RF단말기간의 원활한 통신을 위하여 RF단말기에 추가될 기계적...  \n",
       "14997   본 고안은 음향신호의 송수신에 의해 기기를 제어하는 무전원 원격제어장치에 관한 것이다.  \n",
       "14998  본 발명은 통화 중에 시스템의 로드에 따라 실시간으로 단말의 FA를 변경하도록 하는...  \n",
       "14999  더 나아가서 납축전지 또는 리 이온전지는 제품의 수동적인 선택 스위치를 두어 사용자...  \n",
       "\n",
       "[15000 rows x 3 columns]"
      ],
      "text/html": [
       "<div>\n",
       "<style scoped>\n",
       "    .dataframe tbody tr th:only-of-type {\n",
       "        vertical-align: middle;\n",
       "    }\n",
       "\n",
       "    .dataframe tbody tr th {\n",
       "        vertical-align: top;\n",
       "    }\n",
       "\n",
       "    .dataframe thead th {\n",
       "        text-align: right;\n",
       "    }\n",
       "</style>\n",
       "<table border=\"1\" class=\"dataframe\">\n",
       "  <thead>\n",
       "    <tr style=\"text-align: right;\">\n",
       "      <th></th>\n",
       "      <th>source_texts</th>\n",
       "      <th>target_texts</th>\n",
       "      <th>references</th>\n",
       "    </tr>\n",
       "  </thead>\n",
       "  <tbody>\n",
       "    <tr>\n",
       "      <th>0</th>\n",
       "      <td>提供了一种通过输出在移动通信终端上显示的附加内容作为广告数据来降低终端的价格并降低通信成本的方法。</td>\n",
       "      <td>모바일통신 단말기에서 광고되는 부가 콘텐츠 광고 데이터로 내력함으로써 하여 단말기의...</td>\n",
       "      <td>이동통신 단말기에서 표시되는 부가 내용을 광고 데이터로 출력하도록 하여 단말기의 가...</td>\n",
       "    </tr>\n",
       "    <tr>\n",
       "      <th>1</th>\n",
       "      <td>当在第九步中确定的环境亮度较亮时,将照原样输出在第四,第六和第七步中确定的声音值,并在第十一...</td>\n",
       "      <td>9 99단 확인정된 환경 밝기가 밝 경우, 상기 샘플 4 6 7, 단계 판된 음운드...</td>\n",
       "      <td>상기 제 9 단계에서 판별한 주변 밝기가 밝은 경우, 상기 제 4, 6, 7 단계에...</td>\n",
       "    </tr>\n",
       "    <tr>\n",
       "      <th>2</th>\n",
       "      <td>有效地使用带摄像头的手机等中安装的发光二极管(LED)。</td>\n",
       "      <td>카메라를착된 전화 등 등에 설치된 LED 광 효과적으로적으로 사용하는.</td>\n",
       "      <td>카메라 부착 휴대 전화기 등에 설치된 LED를 효율적으로 이용한다.</td>\n",
       "    </tr>\n",
       "    <tr>\n",
       "      <th>3</th>\n",
       "      <td>其涉及在将晶圆传送至工艺腔体的过程和对晶圆进行蚀刻工艺的过程中减少晶圆工艺面污染的半导体装置...</td>\n",
       "      <td>일플를 공 체로 전달송하는 과정과 웨이퍼에 대한재을정을 하는하는 과정에서 웨이퍼 공...</td>\n",
       "      <td>웨이퍼를 공정챔버로 이송시키는 과정과 웨이퍼에 식각 공정을 수행하는 과정에서 웨이퍼...</td>\n",
       "    </tr>\n",
       "    <tr>\n",
       "      <th>4</th>\n",
       "      <td>其提供有机发光器件,该有机发光器件能够将从有机发光单元发出的光聚集到一个地方以提高光利用效率...</td>\n",
       "      <td>유기발광장러 나오는출되는 빛을 한 곳에에 모으시키는서 활용 효율을 높시키고, 이웃접...</td>\n",
       "      <td>유기 발광셀에서 방출되는 빛을 한곳으로 집중시켜 광 이용 효율을 향상시키고, 인접 ...</td>\n",
       "    </tr>\n",
       "    <tr>\n",
       "      <th>...</th>\n",
       "      <td>...</td>\n",
       "      <td>...</td>\n",
       "      <td>...</td>\n",
       "    </tr>\n",
       "    <tr>\n",
       "      <th>14995</th>\n",
       "      <td>根据本发明的防潮防湿配电箱的构造如下。</td>\n",
       "      <td>이 발명에 따라 비동전류 전포  다음과 같습니다 구성되어. an an an an a...</td>\n",
       "      <td>본 발명에 의한 냉각 방습 배전함은 다음과 같이 구성된다.</td>\n",
       "    </tr>\n",
       "    <tr>\n",
       "      <th>14996</th>\n",
       "      <td>本发明为了射频卡与射频终端机间的畅通通信,提出了射频终端机上附加的机械装置和为驱动该装置的电...</td>\n",
       "      <td>이 발명은 전파카드 RF 단말기간의 통통한 통신을 위해,단말기 첨된 기계장 장치와 ...</td>\n",
       "      <td>본 발명은 RF카드와 RF단말기간의 원활한 통신을 위하여 RF단말기에 추가될 기계적...</td>\n",
       "    </tr>\n",
       "    <tr>\n",
       "      <th>14997</th>\n",
       "      <td>本方案涉及通过发送和接收音响信号来控制设备的无电源远程控制设备。</td>\n",
       "      <td>이 프로그램은안은 무향 신호호를 전송신신 및 의해 장치기 제어하는 전전력 원격 제어...</td>\n",
       "      <td>본 고안은 음향신호의 송수신에 의해 기기를 제어하는 무전원 원격제어장치에 관한 것이다.</td>\n",
       "    </tr>\n",
       "    <tr>\n",
       "      <th>14998</th>\n",
       "      <td>本发明涉及一种在呼叫中改变用于移动通信终端的FA以根据呼叫期间的系统负载实时地改变终端的FA...</td>\n",
       "      <td>이 발명명은 통화 중에 이동 로드 따라 통화으로 통화말기를 FA를 변경하는 호출 이...</td>\n",
       "      <td>본 발명은 통화 중에 시스템의 로드에 따라 실시간으로 단말의 FA를 변경하도록 하는...</td>\n",
       "    </tr>\n",
       "    <tr>\n",
       "      <th>14999</th>\n",
       "      <td>进一步地,铅蓄电池或锂离子电池具有产品的手动选择开关,使用户可以根据需要仅选择该电池并充电。</td>\n",
       "      <td>더 나아가,,전 배터자 또는 아오온온전지 제품 수동 선택 선택 스위치를 가지고어 사...</td>\n",
       "      <td>더 나아가서 납축전지 또는 리 이온전지는 제품의 수동적인 선택 스위치를 두어 사용자...</td>\n",
       "    </tr>\n",
       "  </tbody>\n",
       "</table>\n",
       "<p>15000 rows × 3 columns</p>\n",
       "</div>"
      ]
     },
     "execution_count": 23,
     "metadata": {},
     "output_type": "execute_result"
    }
   ],
   "execution_count": 23
  },
  {
   "cell_type": "code",
   "id": "033b954f-60c3-4dcc-a937-a1b74ed61d16",
   "metadata": {
    "ExecuteTime": {
     "end_time": "2024-09-13T06:46:06.354603Z",
     "start_time": "2024-09-13T06:46:03.310844Z"
    }
   },
   "source": [
    "file_name = \"results_of_{0}\".format(model_name)\n",
    "df_result.to_excel(\"{0}.xlsx\".format(file_name), index=False)\n",
    "df_result.to_csv(\"{0}.csv\".format(file_name), index=False)"
   ],
   "outputs": [],
   "execution_count": 24
  },
  {
   "cell_type": "code",
   "id": "13b3d7de-b885-4bf1-8aa4-64a95fd506a2",
   "metadata": {
    "ExecuteTime": {
     "end_time": "2024-09-13T06:50:23.260330Z",
     "start_time": "2024-09-13T06:46:06.380023Z"
    }
   },
   "source": [
    "from konlpy.tag import Okt\n",
    "# from konlpy.tag import Mecab # Warning:KoNLPy’s Mecab() class is not supported on Windows machines.\n",
    "from nltk.translate.bleu_score import corpus_bleu\n",
    "\n",
    "# corpus_bleu 的结果更稳健，因为它是基于整个语料库的平均分数计算的，而 sentence_bleu 仅基于单个句子。\n",
    "# 注：nltk3.8.1和python 3.12有点问题，要么降低python版本，要么按照以下链接的指导去修改bleu_score.py文件\n",
    "# https://github.com/nltk/nltk/pull/3207\n",
    "# https://github.com/nltk/nltk/blob/develop/nltk/translate/bleu_score.py\n",
    "references_okt = [[Okt().morphs(reference)] for reference in references]\n",
    "target_texts_okt = [Okt().morphs(target_text) for target_text in target_texts]\n",
    "score = corpus_bleu(references_okt, target_texts_okt)\n",
    "score"
   ],
   "outputs": [
    {
     "data": {
      "text/plain": [
       "0.06025297433806512"
      ]
     },
     "execution_count": 25,
     "metadata": {},
     "output_type": "execute_result"
    }
   ],
   "execution_count": 25
  },
  {
   "cell_type": "raw",
   "id": "7d2d0e37-779b-4f6b-afc9-befcc62bb2dd",
   "metadata": {},
   "source": [
    "Start fine-tuning:"
   ]
  },
  {
   "cell_type": "code",
   "id": "0b838ba6-546e-416a-969a-8b558358c71d",
   "metadata": {
    "ExecuteTime": {
     "end_time": "2024-09-18T04:39:16.488479Z",
     "start_time": "2024-09-13T06:50:23.340320Z"
    }
   },
   "source": [
    "# trainer.train(resume_from_checkpoint=True)\n",
    "# trainer.train(resume_from_checkpoint=\"autodl-tmp/zh2ko_based_on_nllb-200-distilled-600M/checkpoint-315000\")\n",
    "trainer.train(resume_from_checkpoint=False)"
   ],
   "outputs": [
    {
     "data": {
      "text/plain": [
       "<IPython.core.display.HTML object>"
      ],
      "text/html": [
       "\n",
       "    <div>\n",
       "      \n",
       "      <progress value='483000' max='1050000' style='width:300px; height:20px; vertical-align: middle;'></progress>\n",
       "      [ 483000/1050000 117:48:52 < 138:18:16, 1.14 it/s, Epoch 4/10]\n",
       "    </div>\n",
       "    <table border=\"1\" class=\"dataframe\">\n",
       "  <thead>\n",
       " <tr style=\"text-align: left;\">\n",
       "      <th>Step</th>\n",
       "      <th>Training Loss</th>\n",
       "      <th>Validation Loss</th>\n",
       "      <th>Model Preparation Time</th>\n",
       "    </tr>\n",
       "  </thead>\n",
       "  <tbody>\n",
       "    <tr>\n",
       "      <td>21000</td>\n",
       "      <td>2.246400</td>\n",
       "      <td>0.055184</td>\n",
       "      <td>0.004000</td>\n",
       "    </tr>\n",
       "    <tr>\n",
       "      <td>42000</td>\n",
       "      <td>0.058200</td>\n",
       "      <td>0.047076</td>\n",
       "      <td>0.004000</td>\n",
       "    </tr>\n",
       "    <tr>\n",
       "      <td>63000</td>\n",
       "      <td>0.051700</td>\n",
       "      <td>0.044017</td>\n",
       "      <td>0.004000</td>\n",
       "    </tr>\n",
       "    <tr>\n",
       "      <td>84000</td>\n",
       "      <td>0.048400</td>\n",
       "      <td>0.042075</td>\n",
       "      <td>0.004000</td>\n",
       "    </tr>\n",
       "    <tr>\n",
       "      <td>105000</td>\n",
       "      <td>0.047200</td>\n",
       "      <td>0.041192</td>\n",
       "      <td>0.004000</td>\n",
       "    </tr>\n",
       "    <tr>\n",
       "      <td>126000</td>\n",
       "      <td>0.042700</td>\n",
       "      <td>0.039868</td>\n",
       "      <td>0.004000</td>\n",
       "    </tr>\n",
       "    <tr>\n",
       "      <td>147000</td>\n",
       "      <td>0.041500</td>\n",
       "      <td>0.038789</td>\n",
       "      <td>0.004000</td>\n",
       "    </tr>\n",
       "    <tr>\n",
       "      <td>168000</td>\n",
       "      <td>0.041000</td>\n",
       "      <td>0.038109</td>\n",
       "      <td>0.004000</td>\n",
       "    </tr>\n",
       "    <tr>\n",
       "      <td>189000</td>\n",
       "      <td>0.040000</td>\n",
       "      <td>0.037106</td>\n",
       "      <td>0.004000</td>\n",
       "    </tr>\n",
       "    <tr>\n",
       "      <td>210000</td>\n",
       "      <td>0.040100</td>\n",
       "      <td>0.036404</td>\n",
       "      <td>0.004000</td>\n",
       "    </tr>\n",
       "    <tr>\n",
       "      <td>231000</td>\n",
       "      <td>0.034100</td>\n",
       "      <td>0.036262</td>\n",
       "      <td>0.004000</td>\n",
       "    </tr>\n",
       "    <tr>\n",
       "      <td>252000</td>\n",
       "      <td>0.034300</td>\n",
       "      <td>0.036093</td>\n",
       "      <td>0.004000</td>\n",
       "    </tr>\n",
       "    <tr>\n",
       "      <td>273000</td>\n",
       "      <td>0.034100</td>\n",
       "      <td>0.035730</td>\n",
       "      <td>0.004000</td>\n",
       "    </tr>\n",
       "    <tr>\n",
       "      <td>294000</td>\n",
       "      <td>0.034300</td>\n",
       "      <td>0.035479</td>\n",
       "      <td>0.004000</td>\n",
       "    </tr>\n",
       "    <tr>\n",
       "      <td>315000</td>\n",
       "      <td>0.034000</td>\n",
       "      <td>0.035026</td>\n",
       "      <td>0.004000</td>\n",
       "    </tr>\n",
       "    <tr>\n",
       "      <td>336000</td>\n",
       "      <td>0.028900</td>\n",
       "      <td>0.035299</td>\n",
       "      <td>0.004000</td>\n",
       "    </tr>\n",
       "    <tr>\n",
       "      <td>357000</td>\n",
       "      <td>0.029100</td>\n",
       "      <td>0.035268</td>\n",
       "      <td>0.004000</td>\n",
       "    </tr>\n",
       "    <tr>\n",
       "      <td>378000</td>\n",
       "      <td>0.029300</td>\n",
       "      <td>0.034962</td>\n",
       "      <td>0.004000</td>\n",
       "    </tr>\n",
       "    <tr>\n",
       "      <td>399000</td>\n",
       "      <td>0.029700</td>\n",
       "      <td>0.034826</td>\n",
       "      <td>0.004000</td>\n",
       "    </tr>\n",
       "    <tr>\n",
       "      <td>420000</td>\n",
       "      <td>0.029600</td>\n",
       "      <td>0.034541</td>\n",
       "      <td>0.004000</td>\n",
       "    </tr>\n",
       "    <tr>\n",
       "      <td>441000</td>\n",
       "      <td>0.024600</td>\n",
       "      <td>0.035398</td>\n",
       "      <td>0.004000</td>\n",
       "    </tr>\n",
       "    <tr>\n",
       "      <td>462000</td>\n",
       "      <td>0.025100</td>\n",
       "      <td>0.035331</td>\n",
       "      <td>0.004000</td>\n",
       "    </tr>\n",
       "    <tr>\n",
       "      <td>483000</td>\n",
       "      <td>0.025400</td>\n",
       "      <td>0.035248</td>\n",
       "      <td>0.004000</td>\n",
       "    </tr>\n",
       "  </tbody>\n",
       "</table><p>"
      ]
     },
     "metadata": {},
     "output_type": "display_data"
    },
    {
     "name": "stderr",
     "output_type": "stream",
     "text": [
      "Some non-default generation parameters are set in the model config. These should go into a GenerationConfig file (https://huggingface.co/docs/transformers/generation_strategies#save-a-custom-decoding-strategy-with-your-model) instead. This warning will be raised to an exception in v4.41.\n",
      "Non-default generation parameters: {'max_length': 200}\n",
      "Some non-default generation parameters are set in the model config. These should go into a GenerationConfig file (https://huggingface.co/docs/transformers/generation_strategies#save-a-custom-decoding-strategy-with-your-model) instead. This warning will be raised to an exception in v4.41.\n",
      "Non-default generation parameters: {'max_length': 200}\n",
      "Some non-default generation parameters are set in the model config. These should go into a GenerationConfig file (https://huggingface.co/docs/transformers/generation_strategies#save-a-custom-decoding-strategy-with-your-model) instead. This warning will be raised to an exception in v4.41.\n",
      "Non-default generation parameters: {'max_length': 200}\n",
      "Some non-default generation parameters are set in the model config. These should go into a GenerationConfig file (https://huggingface.co/docs/transformers/generation_strategies#save-a-custom-decoding-strategy-with-your-model) instead. This warning will be raised to an exception in v4.41.\n",
      "Non-default generation parameters: {'max_length': 200}\n",
      "Some non-default generation parameters are set in the model config. These should go into a GenerationConfig file (https://huggingface.co/docs/transformers/generation_strategies#save-a-custom-decoding-strategy-with-your-model) instead. This warning will be raised to an exception in v4.41.\n",
      "Non-default generation parameters: {'max_length': 200}\n",
      "Some non-default generation parameters are set in the model config. These should go into a GenerationConfig file (https://huggingface.co/docs/transformers/generation_strategies#save-a-custom-decoding-strategy-with-your-model) instead. This warning will be raised to an exception in v4.41.\n",
      "Non-default generation parameters: {'max_length': 200}\n",
      "Some non-default generation parameters are set in the model config. These should go into a GenerationConfig file (https://huggingface.co/docs/transformers/generation_strategies#save-a-custom-decoding-strategy-with-your-model) instead. This warning will be raised to an exception in v4.41.\n",
      "Non-default generation parameters: {'max_length': 200}\n",
      "Some non-default generation parameters are set in the model config. These should go into a GenerationConfig file (https://huggingface.co/docs/transformers/generation_strategies#save-a-custom-decoding-strategy-with-your-model) instead. This warning will be raised to an exception in v4.41.\n",
      "Non-default generation parameters: {'max_length': 200}\n",
      "Some non-default generation parameters are set in the model config. These should go into a GenerationConfig file (https://huggingface.co/docs/transformers/generation_strategies#save-a-custom-decoding-strategy-with-your-model) instead. This warning will be raised to an exception in v4.41.\n",
      "Non-default generation parameters: {'max_length': 200}\n",
      "Some non-default generation parameters are set in the model config. These should go into a GenerationConfig file (https://huggingface.co/docs/transformers/generation_strategies#save-a-custom-decoding-strategy-with-your-model) instead. This warning will be raised to an exception in v4.41.\n",
      "Non-default generation parameters: {'max_length': 200}\n",
      "Some non-default generation parameters are set in the model config. These should go into a GenerationConfig file (https://huggingface.co/docs/transformers/generation_strategies#save-a-custom-decoding-strategy-with-your-model) instead. This warning will be raised to an exception in v4.41.\n",
      "Non-default generation parameters: {'max_length': 200}\n",
      "Some non-default generation parameters are set in the model config. These should go into a GenerationConfig file (https://huggingface.co/docs/transformers/generation_strategies#save-a-custom-decoding-strategy-with-your-model) instead. This warning will be raised to an exception in v4.41.\n",
      "Non-default generation parameters: {'max_length': 200}\n",
      "Some non-default generation parameters are set in the model config. These should go into a GenerationConfig file (https://huggingface.co/docs/transformers/generation_strategies#save-a-custom-decoding-strategy-with-your-model) instead. This warning will be raised to an exception in v4.41.\n",
      "Non-default generation parameters: {'max_length': 200}\n",
      "Some non-default generation parameters are set in the model config. These should go into a GenerationConfig file (https://huggingface.co/docs/transformers/generation_strategies#save-a-custom-decoding-strategy-with-your-model) instead. This warning will be raised to an exception in v4.41.\n",
      "Non-default generation parameters: {'max_length': 200}\n",
      "Some non-default generation parameters are set in the model config. These should go into a GenerationConfig file (https://huggingface.co/docs/transformers/generation_strategies#save-a-custom-decoding-strategy-with-your-model) instead. This warning will be raised to an exception in v4.41.\n",
      "Non-default generation parameters: {'max_length': 200}\n",
      "Some non-default generation parameters are set in the model config. These should go into a GenerationConfig file (https://huggingface.co/docs/transformers/generation_strategies#save-a-custom-decoding-strategy-with-your-model) instead. This warning will be raised to an exception in v4.41.\n",
      "Non-default generation parameters: {'max_length': 200}\n",
      "Some non-default generation parameters are set in the model config. These should go into a GenerationConfig file (https://huggingface.co/docs/transformers/generation_strategies#save-a-custom-decoding-strategy-with-your-model) instead. This warning will be raised to an exception in v4.41.\n",
      "Non-default generation parameters: {'max_length': 200}\n",
      "Some non-default generation parameters are set in the model config. These should go into a GenerationConfig file (https://huggingface.co/docs/transformers/generation_strategies#save-a-custom-decoding-strategy-with-your-model) instead. This warning will be raised to an exception in v4.41.\n",
      "Non-default generation parameters: {'max_length': 200}\n",
      "Some non-default generation parameters are set in the model config. These should go into a GenerationConfig file (https://huggingface.co/docs/transformers/generation_strategies#save-a-custom-decoding-strategy-with-your-model) instead. This warning will be raised to an exception in v4.41.\n",
      "Non-default generation parameters: {'max_length': 200}\n",
      "Some non-default generation parameters are set in the model config. These should go into a GenerationConfig file (https://huggingface.co/docs/transformers/generation_strategies#save-a-custom-decoding-strategy-with-your-model) instead. This warning will be raised to an exception in v4.41.\n",
      "Non-default generation parameters: {'max_length': 200}\n",
      "Some non-default generation parameters are set in the model config. These should go into a GenerationConfig file (https://huggingface.co/docs/transformers/generation_strategies#save-a-custom-decoding-strategy-with-your-model) instead. This warning will be raised to an exception in v4.41.\n",
      "Non-default generation parameters: {'max_length': 200}\n",
      "Some non-default generation parameters are set in the model config. These should go into a GenerationConfig file (https://huggingface.co/docs/transformers/generation_strategies#save-a-custom-decoding-strategy-with-your-model) instead. This warning will be raised to an exception in v4.41.\n",
      "Non-default generation parameters: {'max_length': 200}\n",
      "Some non-default generation parameters are set in the model config. These should go into a GenerationConfig file (https://huggingface.co/docs/transformers/generation_strategies#save-a-custom-decoding-strategy-with-your-model) instead. This warning will be raised to an exception in v4.41.\n",
      "Non-default generation parameters: {'max_length': 200}\n",
      "There were missing keys in the checkpoint model loaded: ['model.encoder.embed_tokens.weight', 'model.decoder.embed_tokens.weight', 'lm_head.weight'].\n"
     ]
    },
    {
     "data": {
      "text/plain": [
       "TrainOutput(global_step=483000, training_loss=0.13260779175057422, metrics={'train_runtime': 424132.4832, 'train_samples_per_second': 2.476, 'train_steps_per_second': 2.476, 'total_flos': 1.046711522820096e+18, 'train_loss': 0.13260779175057422, 'epoch': 4.6})"
      ]
     },
     "execution_count": 26,
     "metadata": {},
     "output_type": "execute_result"
    }
   ],
   "execution_count": 26
  },
  {
   "cell_type": "markdown",
   "id": "bd500d4370c1be89",
   "metadata": {},
   "source": [
    "Save your fine-tuned model and tokenizer:"
   ]
  },
  {
   "cell_type": "code",
   "id": "4947d832b548d386",
   "metadata": {
    "collapsed": false,
    "is_executing": true,
    "jupyter": {
     "outputs_hidden": false
    },
    "tags": [],
    "ExecuteTime": {
     "end_time": "2024-09-18T04:39:20.249033Z",
     "start_time": "2024-09-18T04:39:16.674535Z"
    }
   },
   "source": [
    "trainer.save_model(new_model_dir)\n",
    "tokenizer.save_pretrained(new_model_dir)\n",
    "trainer.save_state()"
   ],
   "outputs": [
    {
     "name": "stderr",
     "output_type": "stream",
     "text": [
      "Some non-default generation parameters are set in the model config. These should go into a GenerationConfig file (https://huggingface.co/docs/transformers/generation_strategies#save-a-custom-decoding-strategy-with-your-model) instead. This warning will be raised to an exception in v4.41.\n",
      "Non-default generation parameters: {'max_length': 200}\n"
     ]
    }
   ],
   "execution_count": 27
  },
  {
   "cell_type": "raw",
   "id": "aef48330-bc9c-4a4e-9f70-c2fd9b30899d",
   "metadata": {},
   "source": [
    "Predict & Calculate test loss & BLEU score:"
   ]
  },
  {
   "cell_type": "code",
   "id": "45c4b896-1987-4fd4-9fa1-c7e994804182",
   "metadata": {
    "ExecuteTime": {
     "end_time": "2024-09-18T04:57:20.134553Z",
     "start_time": "2024-09-18T04:39:20.253030Z"
    }
   },
   "source": [
    "# 在测试数据集上进行预测\n",
    "test_results = trainer.predict(test_dataset)\n",
    "\n",
    "# 获取预测结果\n",
    "predictions = test_results.predictions\n",
    "labels = test_results.label_ids\n",
    "metrics = test_results.metrics"
   ],
   "outputs": [
    {
     "data": {
      "text/plain": [
       "<IPython.core.display.HTML object>"
      ],
      "text/html": []
     },
     "metadata": {},
     "output_type": "display_data"
    }
   ],
   "execution_count": 28
  },
  {
   "cell_type": "code",
   "id": "124a2360-69bf-444a-ad49-e72528bfc1df",
   "metadata": {
    "ExecuteTime": {
     "end_time": "2024-09-18T04:57:20.202700Z",
     "start_time": "2024-09-18T04:57:20.197688Z"
    }
   },
   "source": [
    "# 输出评估指标\n",
    "metrics"
   ],
   "outputs": [
    {
     "data": {
      "text/plain": [
       "{'test_loss': 0.03666689619421959,\n",
       " 'test_model_preparation_time': 0.004,\n",
       " 'test_runtime': 1079.8693,\n",
       " 'test_samples_per_second': 13.891,\n",
       " 'test_steps_per_second': 13.891}"
      ]
     },
     "execution_count": 29,
     "metadata": {},
     "output_type": "execute_result"
    }
   ],
   "execution_count": 29
  },
  {
   "cell_type": "code",
   "id": "7cb52f25-cbe6-4565-b0ae-947b06f6a15f",
   "metadata": {
    "ExecuteTime": {
     "end_time": "2024-09-18T04:57:23.522244Z",
     "start_time": "2024-09-18T04:57:20.286310Z"
    }
   },
   "source": [
    "target_texts_array, references_array = predictions\n",
    "\n",
    "# 对两个数组中的每一个编码进行解码\n",
    "target_texts = [tokenizer.decode(encoding, skip_special_tokens=True) for encoding in target_texts_array]\n",
    "references = [tokenizer.decode(encoding, skip_special_tokens=True) for encoding in references_array]"
   ],
   "outputs": [],
   "execution_count": 30
  },
  {
   "cell_type": "code",
   "id": "94615516-4ec2-4882-87a7-6173ecbda34c",
   "metadata": {
    "ExecuteTime": {
     "end_time": "2024-09-18T04:57:23.591335Z",
     "start_time": "2024-09-18T04:57:23.576103Z"
    }
   },
   "source": [
    "source_texts = x_test\n",
    "\n",
    "df_result = pd.DataFrame({\n",
    "    \"source_texts\": source_texts,\n",
    "    \"target_texts\": target_texts,\n",
    "    \"references\": references,\n",
    "})\n",
    "df_result"
   ],
   "outputs": [
    {
     "data": {
      "text/plain": [
       "                                            source_texts  \\\n",
       "0      提供了一种通过输出在移动通信终端上显示的附加内容作为广告数据来降低终端的价格并降低通信成本的方法。   \n",
       "1      当在第九步中确定的环境亮度较亮时,将照原样输出在第四,第六和第七步中确定的声音值,并在第十一...   \n",
       "2                           有效地使用带摄像头的手机等中安装的发光二极管(LED)。   \n",
       "3      其涉及在将晶圆传送至工艺腔体的过程和对晶圆进行蚀刻工艺的过程中减少晶圆工艺面污染的半导体装置...   \n",
       "4      其提供有机发光器件,该有机发光器件能够将从有机发光单元发出的光聚集到一个地方以提高光利用效率...   \n",
       "...                                                  ...   \n",
       "14995                                根据本发明的防潮防湿配电箱的构造如下。   \n",
       "14996  本发明为了射频卡与射频终端机间的畅通通信,提出了射频终端机上附加的机械装置和为驱动该装置的电...   \n",
       "14997                   本方案涉及通过发送和接收音响信号来控制设备的无电源远程控制设备。   \n",
       "14998  本发明涉及一种在呼叫中改变用于移动通信终端的FA以根据呼叫期间的系统负载实时地改变终端的FA...   \n",
       "14999     进一步地,铅蓄电池或锂离子电池具有产品的手动选择开关,使用户可以根据需要仅选择该电池并充电。   \n",
       "\n",
       "                                            target_texts  \\\n",
       "0      이동통신 단말기에 표시되는 부가 콘텐츠 광고 데이터로 출력하여 함 단말기의 가격을 ...   \n",
       "1      상기 제9단 결정정된 주 밝기가 밝 경우에는 상기 상기 제 4 6 7 단계에서 판된...   \n",
       "2                  카메라가착 휴대폰전 등 등에 설치되는 LED를 효율적으로 사용한다.   \n",
       "3      웨이퍼를 공정챔버로 이송하는 공정과 웨이퍼를 식각공정을 진행하는 과정에서 웨이퍼 공...   \n",
       "4      유기 발광부로부터 발출되는 광 한 장소으로 집시켜 광 이용 효율을 향상시키고 인 인...   \n",
       "...                                                  ...   \n",
       "14995                       본 발명에 따른 방습용습 배전반 그 같은 구성된다.   \n",
       "14996  본 발명은 RF카드와 RF단말기간의 원활한 통신을 위해 RF단말기에 부되는 기계장 ...   \n",
       "14997  본 고안은 오향신호를 송수신을으로 의해 기기를 제어하는 무전원 원격제어장치에 관한 ...   \n",
       "14998  본 발명은 통화시 시스템 부드에 따라 단으로 단말기의 FA를 변경하도록 하는 통화중...   \n",
       "14999  또한 나아가,,축전지 또는 리이온 배터지는 제품에 수동 선택 선택스치를 구어 사용자...   \n",
       "\n",
       "                                              references  \n",
       "0      이동통신 단말기에서 표시되는 부가 내용을 광고 데이터로 출력하도록 하여 단말기의 가...  \n",
       "1      상기 제 9 단계에서 판별한 주변 밝기가 밝은 경우, 상기 제 4, 6, 7 단계에...  \n",
       "2                  카메라 부착 휴대 전화기 등에 설치된 LED를 효율적으로 이용한다.  \n",
       "3      웨이퍼를 공정챔버로 이송시키는 과정과 웨이퍼에 식각 공정을 수행하는 과정에서 웨이퍼...  \n",
       "4      유기 발광셀에서 방출되는 빛을 한곳으로 집중시켜 광 이용 효율을 향상시키고, 인접 ...  \n",
       "...                                                  ...  \n",
       "14995                   본 발명에 의한 냉각 방습 배전함은 다음과 같이 구성된다.  \n",
       "14996  본 발명은 RF카드와 RF단말기간의 원활한 통신을 위하여 RF단말기에 추가될 기계적...  \n",
       "14997   본 고안은 음향신호의 송수신에 의해 기기를 제어하는 무전원 원격제어장치에 관한 것이다.  \n",
       "14998  본 발명은 통화 중에 시스템의 로드에 따라 실시간으로 단말의 FA를 변경하도록 하는...  \n",
       "14999  더 나아가서 납축전지 또는 리 이온전지는 제품의 수동적인 선택 스위치를 두어 사용자...  \n",
       "\n",
       "[15000 rows x 3 columns]"
      ],
      "text/html": [
       "<div>\n",
       "<style scoped>\n",
       "    .dataframe tbody tr th:only-of-type {\n",
       "        vertical-align: middle;\n",
       "    }\n",
       "\n",
       "    .dataframe tbody tr th {\n",
       "        vertical-align: top;\n",
       "    }\n",
       "\n",
       "    .dataframe thead th {\n",
       "        text-align: right;\n",
       "    }\n",
       "</style>\n",
       "<table border=\"1\" class=\"dataframe\">\n",
       "  <thead>\n",
       "    <tr style=\"text-align: right;\">\n",
       "      <th></th>\n",
       "      <th>source_texts</th>\n",
       "      <th>target_texts</th>\n",
       "      <th>references</th>\n",
       "    </tr>\n",
       "  </thead>\n",
       "  <tbody>\n",
       "    <tr>\n",
       "      <th>0</th>\n",
       "      <td>提供了一种通过输出在移动通信终端上显示的附加内容作为广告数据来降低终端的价格并降低通信成本的方法。</td>\n",
       "      <td>이동통신 단말기에 표시되는 부가 콘텐츠 광고 데이터로 출력하여 함 단말기의 가격을 ...</td>\n",
       "      <td>이동통신 단말기에서 표시되는 부가 내용을 광고 데이터로 출력하도록 하여 단말기의 가...</td>\n",
       "    </tr>\n",
       "    <tr>\n",
       "      <th>1</th>\n",
       "      <td>当在第九步中确定的环境亮度较亮时,将照原样输出在第四,第六和第七步中确定的声音值,并在第十一...</td>\n",
       "      <td>상기 제9단 결정정된 주 밝기가 밝 경우에는 상기 상기 제 4 6 7 단계에서 판된...</td>\n",
       "      <td>상기 제 9 단계에서 판별한 주변 밝기가 밝은 경우, 상기 제 4, 6, 7 단계에...</td>\n",
       "    </tr>\n",
       "    <tr>\n",
       "      <th>2</th>\n",
       "      <td>有效地使用带摄像头的手机等中安装的发光二极管(LED)。</td>\n",
       "      <td>카메라가착 휴대폰전 등 등에 설치되는 LED를 효율적으로 사용한다.</td>\n",
       "      <td>카메라 부착 휴대 전화기 등에 설치된 LED를 효율적으로 이용한다.</td>\n",
       "    </tr>\n",
       "    <tr>\n",
       "      <th>3</th>\n",
       "      <td>其涉及在将晶圆传送至工艺腔体的过程和对晶圆进行蚀刻工艺的过程中减少晶圆工艺面污染的半导体装置...</td>\n",
       "      <td>웨이퍼를 공정챔버로 이송하는 공정과 웨이퍼를 식각공정을 진행하는 과정에서 웨이퍼 공...</td>\n",
       "      <td>웨이퍼를 공정챔버로 이송시키는 과정과 웨이퍼에 식각 공정을 수행하는 과정에서 웨이퍼...</td>\n",
       "    </tr>\n",
       "    <tr>\n",
       "      <th>4</th>\n",
       "      <td>其提供有机发光器件,该有机发光器件能够将从有机发光单元发出的光聚集到一个地方以提高光利用效率...</td>\n",
       "      <td>유기 발광부로부터 발출되는 광 한 장소으로 집시켜 광 이용 효율을 향상시키고 인 인...</td>\n",
       "      <td>유기 발광셀에서 방출되는 빛을 한곳으로 집중시켜 광 이용 효율을 향상시키고, 인접 ...</td>\n",
       "    </tr>\n",
       "    <tr>\n",
       "      <th>...</th>\n",
       "      <td>...</td>\n",
       "      <td>...</td>\n",
       "      <td>...</td>\n",
       "    </tr>\n",
       "    <tr>\n",
       "      <th>14995</th>\n",
       "      <td>根据本发明的防潮防湿配电箱的构造如下。</td>\n",
       "      <td>본 발명에 따른 방습용습 배전반 그 같은 구성된다.</td>\n",
       "      <td>본 발명에 의한 냉각 방습 배전함은 다음과 같이 구성된다.</td>\n",
       "    </tr>\n",
       "    <tr>\n",
       "      <th>14996</th>\n",
       "      <td>本发明为了射频卡与射频终端机间的畅通通信,提出了射频终端机上附加的机械装置和为驱动该装置的电...</td>\n",
       "      <td>본 발명은 RF카드와 RF단말기간의 원활한 통신을 위해 RF단말기에 부되는 기계장 ...</td>\n",
       "      <td>본 발명은 RF카드와 RF단말기간의 원활한 통신을 위하여 RF단말기에 추가될 기계적...</td>\n",
       "    </tr>\n",
       "    <tr>\n",
       "      <th>14997</th>\n",
       "      <td>本方案涉及通过发送和接收音响信号来控制设备的无电源远程控制设备。</td>\n",
       "      <td>본 고안은 오향신호를 송수신을으로 의해 기기를 제어하는 무전원 원격제어장치에 관한 ...</td>\n",
       "      <td>본 고안은 음향신호의 송수신에 의해 기기를 제어하는 무전원 원격제어장치에 관한 것이다.</td>\n",
       "    </tr>\n",
       "    <tr>\n",
       "      <th>14998</th>\n",
       "      <td>本发明涉及一种在呼叫中改变用于移动通信终端的FA以根据呼叫期间的系统负载实时地改变终端的FA...</td>\n",
       "      <td>본 발명은 통화시 시스템 부드에 따라 단으로 단말기의 FA를 변경하도록 하는 통화중...</td>\n",
       "      <td>본 발명은 통화 중에 시스템의 로드에 따라 실시간으로 단말의 FA를 변경하도록 하는...</td>\n",
       "    </tr>\n",
       "    <tr>\n",
       "      <th>14999</th>\n",
       "      <td>进一步地,铅蓄电池或锂离子电池具有产品的手动选择开关,使用户可以根据需要仅选择该电池并充电。</td>\n",
       "      <td>또한 나아가,,축전지 또는 리이온 배터지는 제품에 수동 선택 선택스치를 구어 사용자...</td>\n",
       "      <td>더 나아가서 납축전지 또는 리 이온전지는 제품의 수동적인 선택 스위치를 두어 사용자...</td>\n",
       "    </tr>\n",
       "  </tbody>\n",
       "</table>\n",
       "<p>15000 rows × 3 columns</p>\n",
       "</div>"
      ]
     },
     "execution_count": 31,
     "metadata": {},
     "output_type": "execute_result"
    }
   ],
   "execution_count": 31
  },
  {
   "cell_type": "code",
   "id": "b370b262-c807-45a8-b4fd-6bfe82ea6d0a",
   "metadata": {
    "ExecuteTime": {
     "end_time": "2024-09-18T04:57:26.271499Z",
     "start_time": "2024-09-18T04:57:23.888106Z"
    }
   },
   "source": [
    "file_name = \"results_of_{0}\".format(new_model_name)\n",
    "df_result.to_excel(\"{0}.xlsx\".format(file_name), index=False)\n",
    "df_result.to_csv(\"{0}.csv\".format(file_name), index=False)"
   ],
   "outputs": [],
   "execution_count": 32
  },
  {
   "cell_type": "code",
   "id": "64a9293a-7096-4dd3-9f12-26277facdf8b",
   "metadata": {
    "ExecuteTime": {
     "end_time": "2024-09-18T05:01:12.451378Z",
     "start_time": "2024-09-18T04:57:26.297236Z"
    }
   },
   "source": [
    "from konlpy.tag import Okt\n",
    "# from konlpy.tag import Mecab # Warning:KoNLPy’s Mecab() class is not supported on Windows machines.\n",
    "from nltk.translate.bleu_score import corpus_bleu\n",
    "\n",
    "# corpus_bleu 的结果更稳健，因为它是基于整个语料库的平均分数计算的，而 sentence_bleu 仅基于单个句子。\n",
    "# 注：nltk3.8.1和python 3.12有点问题，要么降低python版本，要么按照以下链接的指导去修改bleu_score.py文件\n",
    "# https://github.com/nltk/nltk/pull/3207\n",
    "# https://github.com/nltk/nltk/blob/develop/nltk/translate/bleu_score.py\n",
    "references_okt = [[Okt().morphs(reference)] for reference in references]\n",
    "target_texts_okt = [Okt().morphs(target_text) for target_text in target_texts]\n",
    "score = corpus_bleu(references_okt, target_texts_okt)\n",
    "score"
   ],
   "outputs": [
    {
     "data": {
      "text/plain": [
       "0.4884873348066413"
      ]
     },
     "execution_count": 33,
     "metadata": {},
     "output_type": "execute_result"
    }
   ],
   "execution_count": 33
  }
 ],
 "metadata": {
  "kernelspec": {
   "display_name": "Python 3 (ipykernel)",
   "language": "python",
   "name": "python3"
  },
  "language_info": {
   "codemirror_mode": {
    "name": "ipython",
    "version": 3
   },
   "file_extension": ".py",
   "mimetype": "text/x-python",
   "name": "python",
   "nbconvert_exporter": "python",
   "pygments_lexer": "ipython3",
   "version": "3.12.3"
  }
 },
 "nbformat": 4,
 "nbformat_minor": 5
}

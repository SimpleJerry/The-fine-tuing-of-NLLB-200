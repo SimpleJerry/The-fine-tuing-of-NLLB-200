{
 "cells": [
  {
   "metadata": {
    "ExecuteTime": {
     "end_time": "2024-09-19T16:22:57.315615Z",
     "start_time": "2024-09-19T16:22:55.344986Z"
    }
   },
   "cell_type": "code",
   "source": [
    "import pandas as pd\n",
    "\n",
    "csv_original = \"results_of_nllb-200-distilled-600M.csv\"\n",
    "df_original = pd.read_csv(csv_original)\n",
    "df_original.columns"
   ],
   "id": "18ce0b4a468e4015",
   "outputs": [
    {
     "data": {
      "text/plain": [
       "Index(['source_texts', 'target_texts', 'references'], dtype='object')"
      ]
     },
     "execution_count": 1,
     "metadata": {},
     "output_type": "execute_result"
    }
   ],
   "execution_count": 1
  },
  {
   "metadata": {
    "ExecuteTime": {
     "end_time": "2024-09-19T16:22:57.335804Z",
     "start_time": "2024-09-19T16:22:57.320631Z"
    }
   },
   "cell_type": "code",
   "source": [
    "source_texts = df_original[\"source_texts\"]\n",
    "target_texts = df_original[\"target_texts\"]\n",
    "references = df_original[\"references\"]"
   ],
   "id": "6b80ff9b262dc526",
   "outputs": [],
   "execution_count": 2
  },
  {
   "metadata": {
    "ExecuteTime": {
     "end_time": "2024-09-19T16:31:57.643100Z",
     "start_time": "2024-09-19T16:22:57.343821Z"
    }
   },
   "cell_type": "code",
   "source": [
    "from konlpy.tag import Okt\n",
    "# from konlpy.tag import Mecab # Warning:KoNLPy’s Mecab() class is not supported on Windows machines.\n",
    "from nltk.translate.bleu_score import corpus_bleu\n",
    "\n",
    "# corpus_bleu 的结果更稳健，因为它是基于整个语料库的平均分数计算的，而 sentence_bleu 仅基于单个句子。\n",
    "# 注：nltk3.8.1和python 3.12有点问题，要么降低python版本，要么按照以下链接的指导去修改bleu_score.py文件\n",
    "# https://github.com/nltk/nltk/pull/3207\n",
    "# https://github.com/nltk/nltk/blob/develop/nltk/translate/bleu_score.py\n",
    "references_okt = [[Okt().morphs(reference)] for reference in references]\n",
    "target_texts_okt = [Okt().morphs(target_text) for target_text in target_texts]\n",
    "score = corpus_bleu(references_okt, target_texts_okt)\n",
    "score"
   ],
   "id": "initial_id",
   "outputs": [
    {
     "data": {
      "text/plain": [
       "0.06025297433806512"
      ]
     },
     "execution_count": 3,
     "metadata": {},
     "output_type": "execute_result"
    }
   ],
   "execution_count": 3
  }
 ],
 "metadata": {
  "kernelspec": {
   "display_name": "Python 3",
   "language": "python",
   "name": "python3"
  },
  "language_info": {
   "codemirror_mode": {
    "name": "ipython",
    "version": 2
   },
   "file_extension": ".py",
   "mimetype": "text/x-python",
   "name": "python",
   "nbconvert_exporter": "python",
   "pygments_lexer": "ipython2",
   "version": "2.7.6"
  }
 },
 "nbformat": 4,
 "nbformat_minor": 5
}

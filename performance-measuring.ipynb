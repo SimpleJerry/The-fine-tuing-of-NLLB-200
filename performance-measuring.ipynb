{
 "cells": [
  {
   "metadata": {},
   "cell_type": "code",
   "source": [
    "import pandas as pd\n",
    "\n",
    "csv_original = \"results_of_nllb-200-distilled-600M.csv\"\n",
    "df_original = pd.read_csv(csv_original)\n",
    "df_original.columns"
   ],
   "id": "18ce0b4a468e4015",
   "outputs": [],
   "execution_count": null
  },
  {
   "metadata": {},
   "cell_type": "code",
   "source": [
    "source_texts = df_original[\"source_texts\"]\n",
    "target_texts = df_original[\"target_texts\"]\n",
    "references = df_original[\"references\"]"
   ],
   "id": "6b80ff9b262dc526",
   "outputs": [],
   "execution_count": null
  },
  {
   "metadata": {},
   "cell_type": "markdown",
   "source": "BLEU score:",
   "id": "4f2a540c8ade6c36"
  },
  {
   "metadata": {},
   "cell_type": "code",
   "source": [
    "from konlpy.tag import Okt\n",
    "# from konlpy.tag import Mecab # Warning:KoNLPy’s Mecab() class is not supported on Windows machines.\n",
    "from nltk.translate.bleu_score import corpus_bleu\n",
    "\n",
    "# corpus_bleu 的结果更稳健，因为它是基于整个语料库的平均分数计算的，而 sentence_bleu 仅基于单个句子。\n",
    "# 注：nltk3.8.1和python 3.12有点问题，要么降低python版本，要么按照以下链接的指导去修改bleu_score.py文件\n",
    "# https://github.com/nltk/nltk/pull/3207\n",
    "# https://github.com/nltk/nltk/blob/develop/nltk/translate/bleu_score.py\n",
    "references_okt = [[Okt().morphs(reference)] for reference in references]\n",
    "target_texts_okt = [Okt().morphs(target_text) for target_text in target_texts]\n",
    "bleu_score = corpus_bleu(references_okt, target_texts_okt)\n",
    "bleu_score"
   ],
   "id": "initial_id",
   "outputs": [],
   "execution_count": null
  },
  {
   "metadata": {},
   "cell_type": "markdown",
   "source": "METEOR score:",
   "id": "7f07bf6fc04ec442"
  },
  {
   "metadata": {},
   "cell_type": "code",
   "source": [
    "from nltk.translate.meteor_score import meteor_score\n",
    "from tqdm.notebook import tqdm\n",
    "\n",
    "meteor_scores = []\n",
    "for reference, target_text in tqdm(zip(references_okt, target_texts_okt), total=len(references)):\n",
    "    meteor_scores.append(meteor_score(reference, target_text))\n",
    "meteor_scores"
   ],
   "id": "fe0721542ed2277a",
   "outputs": [],
   "execution_count": null
  },
  {
   "metadata": {},
   "cell_type": "code",
   "source": [
    "average_meteor_score = sum(meteor_scores) / len(meteor_scores)\n",
    "average_meteor_score"
   ],
   "id": "211e871916592c2f",
   "outputs": [],
   "execution_count": null
  },
  {
   "metadata": {},
   "cell_type": "markdown",
   "source": "TER score:",
   "id": "f5ea1fbb0fc593df"
  },
  {
   "metadata": {},
   "cell_type": "code",
   "source": "!pip install pyter3",
   "id": "7bb7443f2efabd48",
   "outputs": [],
   "execution_count": null
  },
  {
   "metadata": {},
   "cell_type": "code",
   "source": [
    "ter_scores = []\n",
    "for reference, target_text in tqdm(zip(references_okt, target_texts_okt), total=len(references)):\n",
    "    ter_scores.append(meteor_score(reference, target_text))\n",
    "ter_scores"
   ],
   "id": "8bf2cfcf50cc4aed",
   "outputs": [],
   "execution_count": null
  },
  {
   "metadata": {},
   "cell_type": "code",
   "source": [
    "average_ter_score = sum(ter_scores) / len(ter_scores)\n",
    "average_ter_score"
   ],
   "id": "c29780e9c4aec974",
   "outputs": [],
   "execution_count": null
  },
  {
   "metadata": {},
   "cell_type": "markdown",
   "source": "chrF++ score:",
   "id": "952dc4f3cbb32a0"
  },
  {
   "metadata": {},
   "cell_type": "code",
   "source": "!pip install sacrebleu",
   "id": "588a2cc788ad6be5",
   "outputs": [],
   "execution_count": null
  },
  {
   "metadata": {},
   "cell_type": "code",
   "source": [
    "import sacrebleu\n",
    "\n",
    "chrf_score = sacrebleu.corpus_chrf(target_texts.tolist(), [[reference] for reference in references])\n",
    "chrf_score"
   ],
   "id": "f8095e4b06f40cd2",
   "outputs": [],
   "execution_count": null
  }
 ],
 "metadata": {
  "kernelspec": {
   "display_name": "Python 3",
   "language": "python",
   "name": "python3"
  },
  "language_info": {
   "codemirror_mode": {
    "name": "ipython",
    "version": 2
   },
   "file_extension": ".py",
   "mimetype": "text/x-python",
   "name": "python",
   "nbconvert_exporter": "python",
   "pygments_lexer": "ipython2",
   "version": "2.7.6"
  }
 },
 "nbformat": 4,
 "nbformat_minor": 5
}

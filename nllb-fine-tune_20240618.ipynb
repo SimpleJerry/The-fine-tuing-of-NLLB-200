{
 "cells": [
  {
   "cell_type": "raw",
   "id": "6cb62a25-f9dc-4ab0-ad41-925ad49d350d",
   "metadata": {},
   "source": [
    "Environment Setup:"
   ]
  },
  {
   "cell_type": "code",
   "execution_count": 1,
   "id": "b217e314-3a45-4abb-bbf4-fd1b3901bc2b",
   "metadata": {
    "scrolled": true
   },
   "outputs": [
    {
     "name": "stdout",
     "output_type": "stream",
     "text": [
      "Looking in indexes: http://mirrors.aliyun.com/pypi/simple\n",
      "Requirement already satisfied: transformers in ./miniconda3/lib/python3.12/site-packages (4.41.2)\n",
      "Requirement already satisfied: accelerate in ./miniconda3/lib/python3.12/site-packages (0.31.0)\n",
      "Requirement already satisfied: scikit-learn in ./miniconda3/lib/python3.12/site-packages (1.5.0)\n",
      "Requirement already satisfied: numpy in ./miniconda3/lib/python3.12/site-packages (1.26.4)\n",
      "Requirement already satisfied: pandas in ./miniconda3/lib/python3.12/site-packages (2.2.2)\n",
      "Requirement already satisfied: filelock in ./miniconda3/lib/python3.12/site-packages (from transformers) (3.14.0)\n",
      "Requirement already satisfied: huggingface-hub<1.0,>=0.23.0 in ./miniconda3/lib/python3.12/site-packages (from transformers) (0.23.3)\n",
      "Requirement already satisfied: packaging>=20.0 in ./miniconda3/lib/python3.12/site-packages (from transformers) (23.2)\n",
      "Requirement already satisfied: pyyaml>=5.1 in ./miniconda3/lib/python3.12/site-packages (from transformers) (6.0.1)\n",
      "Requirement already satisfied: regex!=2019.12.17 in ./miniconda3/lib/python3.12/site-packages (from transformers) (2024.5.15)\n",
      "Requirement already satisfied: requests in ./miniconda3/lib/python3.12/site-packages (from transformers) (2.32.3)\n",
      "Requirement already satisfied: tokenizers<0.20,>=0.19 in ./miniconda3/lib/python3.12/site-packages (from transformers) (0.19.1)\n",
      "Requirement already satisfied: safetensors>=0.4.1 in ./miniconda3/lib/python3.12/site-packages (from transformers) (0.4.3)\n",
      "Requirement already satisfied: tqdm>=4.27 in ./miniconda3/lib/python3.12/site-packages (from transformers) (4.66.4)\n",
      "Requirement already satisfied: psutil in ./miniconda3/lib/python3.12/site-packages (from accelerate) (5.9.8)\n",
      "Requirement already satisfied: torch>=1.10.0 in ./miniconda3/lib/python3.12/site-packages (from accelerate) (2.3.0+cu121)\n",
      "Requirement already satisfied: scipy>=1.6.0 in ./miniconda3/lib/python3.12/site-packages (from scikit-learn) (1.13.1)\n",
      "Requirement already satisfied: joblib>=1.2.0 in ./miniconda3/lib/python3.12/site-packages (from scikit-learn) (1.4.2)\n",
      "Requirement already satisfied: threadpoolctl>=3.1.0 in ./miniconda3/lib/python3.12/site-packages (from scikit-learn) (3.5.0)\n",
      "Requirement already satisfied: python-dateutil>=2.8.2 in ./miniconda3/lib/python3.12/site-packages (from pandas) (2.9.0.post0)\n",
      "Requirement already satisfied: pytz>=2020.1 in ./miniconda3/lib/python3.12/site-packages (from pandas) (2024.1)\n",
      "Requirement already satisfied: tzdata>=2022.7 in ./miniconda3/lib/python3.12/site-packages (from pandas) (2024.1)\n",
      "Requirement already satisfied: fsspec>=2023.5.0 in ./miniconda3/lib/python3.12/site-packages (from huggingface-hub<1.0,>=0.23.0->transformers) (2024.5.0)\n",
      "Requirement already satisfied: typing-extensions>=3.7.4.3 in ./miniconda3/lib/python3.12/site-packages (from huggingface-hub<1.0,>=0.23.0->transformers) (4.12.1)\n",
      "Requirement already satisfied: six>=1.5 in ./miniconda3/lib/python3.12/site-packages (from python-dateutil>=2.8.2->pandas) (1.16.0)\n",
      "Requirement already satisfied: sympy in ./miniconda3/lib/python3.12/site-packages (from torch>=1.10.0->accelerate) (1.12.1)\n",
      "Requirement already satisfied: networkx in ./miniconda3/lib/python3.12/site-packages (from torch>=1.10.0->accelerate) (3.3)\n",
      "Requirement already satisfied: jinja2 in ./miniconda3/lib/python3.12/site-packages (from torch>=1.10.0->accelerate) (3.1.4)\n",
      "Requirement already satisfied: nvidia-cuda-nvrtc-cu12==12.1.105 in ./miniconda3/lib/python3.12/site-packages (from torch>=1.10.0->accelerate) (12.1.105)\n",
      "Requirement already satisfied: nvidia-cuda-runtime-cu12==12.1.105 in ./miniconda3/lib/python3.12/site-packages (from torch>=1.10.0->accelerate) (12.1.105)\n",
      "Requirement already satisfied: nvidia-cuda-cupti-cu12==12.1.105 in ./miniconda3/lib/python3.12/site-packages (from torch>=1.10.0->accelerate) (12.1.105)\n",
      "Requirement already satisfied: nvidia-cudnn-cu12==8.9.2.26 in ./miniconda3/lib/python3.12/site-packages (from torch>=1.10.0->accelerate) (8.9.2.26)\n",
      "Requirement already satisfied: nvidia-cublas-cu12==12.1.3.1 in ./miniconda3/lib/python3.12/site-packages (from torch>=1.10.0->accelerate) (12.1.3.1)\n",
      "Requirement already satisfied: nvidia-cufft-cu12==11.0.2.54 in ./miniconda3/lib/python3.12/site-packages (from torch>=1.10.0->accelerate) (11.0.2.54)\n",
      "Requirement already satisfied: nvidia-curand-cu12==10.3.2.106 in ./miniconda3/lib/python3.12/site-packages (from torch>=1.10.0->accelerate) (10.3.2.106)\n",
      "Requirement already satisfied: nvidia-cusolver-cu12==11.4.5.107 in ./miniconda3/lib/python3.12/site-packages (from torch>=1.10.0->accelerate) (11.4.5.107)\n",
      "Requirement already satisfied: nvidia-cusparse-cu12==12.1.0.106 in ./miniconda3/lib/python3.12/site-packages (from torch>=1.10.0->accelerate) (12.1.0.106)\n",
      "Requirement already satisfied: nvidia-nccl-cu12==2.20.5 in ./miniconda3/lib/python3.12/site-packages (from torch>=1.10.0->accelerate) (2.20.5)\n",
      "Requirement already satisfied: nvidia-nvtx-cu12==12.1.105 in ./miniconda3/lib/python3.12/site-packages (from torch>=1.10.0->accelerate) (12.1.105)\n",
      "Requirement already satisfied: nvidia-nvjitlink-cu12 in ./miniconda3/lib/python3.12/site-packages (from nvidia-cusolver-cu12==11.4.5.107->torch>=1.10.0->accelerate) (12.5.40)\n",
      "Requirement already satisfied: charset-normalizer<4,>=2 in ./miniconda3/lib/python3.12/site-packages (from requests->transformers) (2.0.4)\n",
      "Requirement already satisfied: idna<4,>=2.5 in ./miniconda3/lib/python3.12/site-packages (from requests->transformers) (3.7)\n",
      "Requirement already satisfied: urllib3<3,>=1.21.1 in ./miniconda3/lib/python3.12/site-packages (from requests->transformers) (2.1.0)\n",
      "Requirement already satisfied: certifi>=2017.4.17 in ./miniconda3/lib/python3.12/site-packages (from requests->transformers) (2024.2.2)\n",
      "Requirement already satisfied: MarkupSafe>=2.0 in ./miniconda3/lib/python3.12/site-packages (from jinja2->torch>=1.10.0->accelerate) (2.1.5)\n",
      "Requirement already satisfied: mpmath<1.4.0,>=1.1.0 in ./miniconda3/lib/python3.12/site-packages (from sympy->torch>=1.10.0->accelerate) (1.3.0)\n",
      "\u001B[33mWARNING: Running pip as the 'root' user can result in broken permissions and conflicting behaviour with the system package manager. It is recommended to use a virtual environment instead: https://pip.pypa.io/warnings/venv\u001B[0m\u001B[33m\n",
      "\u001B[0m"
     ]
    }
   ],
   "source": [
    "#安装transformers库\n",
    "!pip install transformers accelerate scikit-learn numpy pandas"
   ]
  },
  {
   "cell_type": "markdown",
   "id": "faa2d71c2c68a230",
   "metadata": {},
   "source": [
    "Load the tokenizer:"
   ]
  },
  {
   "cell_type": "code",
   "execution_count": 2,
   "id": "a3e591ab0d8c7532",
   "metadata": {
    "collapsed": false,
    "jupyter": {
     "outputs_hidden": false
    },
    "tags": []
   },
   "outputs": [],
   "source": [
    "import os\n",
    "\n",
    "data_disk_dir = \"autodl-tmp\"  # 数据盘dir（云GPU平台）\n",
    "model_name = \"zh2ko_based_on_nllb-200-distilled-600M\"\n",
    "model_dir = os.path.join(data_disk_dir, model_name)"
   ]
  },
  {
   "cell_type": "code",
   "execution_count": 3,
   "id": "772dbf8a-eb10-4a50-9b1e-683a973649da",
   "metadata": {},
   "outputs": [],
   "source": [
    "from transformers import AutoTokenizer\n",
    "\n",
    "tokenizer = AutoTokenizer.from_pretrained(model_dir, tgt_lang=None)"
   ]
  },
  {
   "cell_type": "markdown",
   "id": "c0064f69-3dcc-4b70-9945-a6d8e4ecd1c6",
   "metadata": {},
   "source": [
    "Prepare your training and validation data:"
   ]
  },
  {
   "cell_type": "code",
   "execution_count": 4,
   "id": "104c0cf739ab273c",
   "metadata": {
    "collapsed": false,
    "jupyter": {
     "outputs_hidden": false
    },
    "tags": []
   },
   "outputs": [],
   "source": [
    "data_dir = \"data/027.한국어-중국어_번역_말뭉치_1/01.데이터\"\n",
    "csv_train = os.path.join(data_dir, \"1.Training/원천데이터/ko2zh_patent_1_training.csv\")\n",
    "csv_valid = os.path.join(data_dir, \"2.Validation/원천데이터/ko2zh_patent_2_validation.csv\")"
   ]
  },
  {
   "cell_type": "code",
   "execution_count": 5,
   "id": "7a503105-8bce-44cc-a840-fbd3ebf8924e",
   "metadata": {},
   "outputs": [],
   "source": [
    "rename_dict = {\"중국어\": \"zho_Hans\", \"한국어\": \"kor_Hang\"}"
   ]
  },
  {
   "cell_type": "code",
   "execution_count": 6,
   "id": "e9d46a4e-c959-4431-a1bc-e407723078c3",
   "metadata": {},
   "outputs": [],
   "source": [
    "\n",
    "import pandas as pd\n",
    "\n",
    "#load Training Data\n",
    "df_train = pd.read_csv(csv_train)[rename_dict.keys()]\n",
    "df_train.rename(columns=rename_dict, inplace=True)  # rename the columns\n",
    "\n",
    "#load Validation Data\n",
    "df_valid = pd.read_csv(csv_valid)[rename_dict.keys()]\n",
    "df_valid.rename(columns=rename_dict, inplace=True)  # rename the columns"
   ]
  },
  {
   "cell_type": "code",
   "execution_count": 7,
   "id": "22c9918d-2b9d-44d5-b8b6-33258bc8656f",
   "metadata": {},
   "outputs": [
    {
     "data": {
      "text/html": [
       "<div>\n",
       "<style scoped>\n",
       "    .dataframe tbody tr th:only-of-type {\n",
       "        vertical-align: middle;\n",
       "    }\n",
       "\n",
       "    .dataframe tbody tr th {\n",
       "        vertical-align: top;\n",
       "    }\n",
       "\n",
       "    .dataframe thead th {\n",
       "        text-align: right;\n",
       "    }\n",
       "</style>\n",
       "<table border=\"1\" class=\"dataframe\">\n",
       "  <thead>\n",
       "    <tr style=\"text-align: right;\">\n",
       "      <th></th>\n",
       "      <th>zho_Hans</th>\n",
       "      <th>kor_Hang</th>\n",
       "    </tr>\n",
       "  </thead>\n",
       "  <tbody>\n",
       "    <tr>\n",
       "      <th>0</th>\n",
       "      <td>本发明可以检测通过插头供应的主电源的频率特性,并为使从接近该频率零电位的上升电位连接到继电器...</td>\n",
       "      <td>본 발명은 플러그를 통해 공급되는 주전원의 주파수 특성을 검출하여 주파수의 제로전위...</td>\n",
       "    </tr>\n",
       "    <tr>\n",
       "      <th>1</th>\n",
       "      <td>本发明是关于蜂窝电话的发明,当由于手机的移动而离开服务区域超过预定时间时自动关闭电源,并以预...</td>\n",
       "      <td>본 발명은 셀룰라폰에 관한 것으로, 셀룰라폰의 이동으로 소정시간이상 서어비스 지역을...</td>\n",
       "    </tr>\n",
       "    <tr>\n",
       "      <th>2</th>\n",
       "      <td>另外,因为不执行利用单元多功能复制的资源管理,所以存在无法向多个用户提供同一个音调的缺点。</td>\n",
       "      <td>또한, 셀 멀티 카피 기능을 활용하기 위한 자원 관리를 수행하지 않기 때문에 하나의...</td>\n",
       "    </tr>\n",
       "    <tr>\n",
       "      <th>3</th>\n",
       "      <td>安装有编码器的电动机,可以测量回转量和回转速度。</td>\n",
       "      <td>엔코더가 부착된 모터의 경우 회전량과 회전 속도를 측정할 수 있다.</td>\n",
       "    </tr>\n",
       "    <tr>\n",
       "      <th>4</th>\n",
       "      <td>本发明是关于一种用于保护真空泵的电动机,免受半导体溅射(Sputtering)设备中的过电流...</td>\n",
       "      <td>본 발명은 반도체 스퍼터링(Sputtering)장비에 있어서, 진공 펌프의 모터를 ...</td>\n",
       "    </tr>\n",
       "    <tr>\n",
       "      <th>...</th>\n",
       "      <td>...</td>\n",
       "      <td>...</td>\n",
       "    </tr>\n",
       "    <tr>\n",
       "      <th>119995</th>\n",
       "      <td>本发明涉及一种用于在提供背景声音呼叫服务时改善背景音乐的声音质量方法。</td>\n",
       "      <td>본 발명은 배경음 통화 서비스 제공시에 배경음악의 음질을 향상시키기 위한 방법에 관...</td>\n",
       "    </tr>\n",
       "    <tr>\n",
       "      <th>119996</th>\n",
       "      <td>可以将电流释放阻抗设置得较低,提供一种高度方便的电池装置。</td>\n",
       "      <td>과전류 해제 임피던스를 낮게 설정할 수 있어, 편리성이 높은 배터리 장치를 제공한다.</td>\n",
       "    </tr>\n",
       "    <tr>\n",
       "      <th>119997</th>\n",
       "      <td>本发明的目的是优化密封构件的布置,该密封构件阻止工艺腔体的内部与大气之间的连通。</td>\n",
       "      <td>본 발명의 과제는 처리실 내와 대기의 연통을 차단하는 밀봉 부재의 배치의 적정화를 ...</td>\n",
       "    </tr>\n",
       "    <tr>\n",
       "      <th>119998</th>\n",
       "      <td>另外,本发明包括固定体缓冲装置,因此减轻冲击来获得防止绝缘体破裂的效果。</td>\n",
       "      <td>또한, 본 발명은 고정체 완충수단이 포함되어 있어 충격을 완화시킴으로써 애자 파손을...</td>\n",
       "    </tr>\n",
       "    <tr>\n",
       "      <th>119999</th>\n",
       "      <td>在常规的多输入谐振DC-DC转换器中,由于不能在变压器的次级侧上使用感性负载,因此难以提高效...</td>\n",
       "      <td>종래 기술에 의한 다중 입력 공진형 DC-DC 컨버터에서는 트랜스포머의 2차 측에 ...</td>\n",
       "    </tr>\n",
       "  </tbody>\n",
       "</table>\n",
       "<p>120000 rows × 2 columns</p>\n",
       "</div>"
      ],
      "text/plain": [
       "                                                 zho_Hans  \\\n",
       "0       本发明可以检测通过插头供应的主电源的频率特性,并为使从接近该频率零电位的上升电位连接到继电器...   \n",
       "1       本发明是关于蜂窝电话的发明,当由于手机的移动而离开服务区域超过预定时间时自动关闭电源,并以预...   \n",
       "2           另外,因为不执行利用单元多功能复制的资源管理,所以存在无法向多个用户提供同一个音调的缺点。   \n",
       "3                                安装有编码器的电动机,可以测量回转量和回转速度。   \n",
       "4       本发明是关于一种用于保护真空泵的电动机,免受半导体溅射(Sputtering)设备中的过电流...   \n",
       "...                                                   ...   \n",
       "119995                本发明涉及一种用于在提供背景声音呼叫服务时改善背景音乐的声音质量方法。   \n",
       "119996                      可以将电流释放阻抗设置得较低,提供一种高度方便的电池装置。   \n",
       "119997           本发明的目的是优化密封构件的布置,该密封构件阻止工艺腔体的内部与大气之间的连通。   \n",
       "119998               另外,本发明包括固定体缓冲装置,因此减轻冲击来获得防止绝缘体破裂的效果。   \n",
       "119999  在常规的多输入谐振DC-DC转换器中,由于不能在变压器的次级侧上使用感性负载,因此难以提高效...   \n",
       "\n",
       "                                                 kor_Hang  \n",
       "0       본 발명은 플러그를 통해 공급되는 주전원의 주파수 특성을 검출하여 주파수의 제로전위...  \n",
       "1       본 발명은 셀룰라폰에 관한 것으로, 셀룰라폰의 이동으로 소정시간이상 서어비스 지역을...  \n",
       "2       또한, 셀 멀티 카피 기능을 활용하기 위한 자원 관리를 수행하지 않기 때문에 하나의...  \n",
       "3                   엔코더가 부착된 모터의 경우 회전량과 회전 속도를 측정할 수 있다.  \n",
       "4       본 발명은 반도체 스퍼터링(Sputtering)장비에 있어서, 진공 펌프의 모터를 ...  \n",
       "...                                                   ...  \n",
       "119995  본 발명은 배경음 통화 서비스 제공시에 배경음악의 음질을 향상시키기 위한 방법에 관...  \n",
       "119996    과전류 해제 임피던스를 낮게 설정할 수 있어, 편리성이 높은 배터리 장치를 제공한다.  \n",
       "119997  본 발명의 과제는 처리실 내와 대기의 연통을 차단하는 밀봉 부재의 배치의 적정화를 ...  \n",
       "119998  또한, 본 발명은 고정체 완충수단이 포함되어 있어 충격을 완화시킴으로써 애자 파손을...  \n",
       "119999  종래 기술에 의한 다중 입력 공진형 DC-DC 컨버터에서는 트랜스포머의 2차 측에 ...  \n",
       "\n",
       "[120000 rows x 2 columns]"
      ]
     },
     "execution_count": 7,
     "metadata": {},
     "output_type": "execute_result"
    }
   ],
   "source": [
    "df_train"
   ]
  },
  {
   "cell_type": "code",
   "execution_count": 8,
   "id": "879de305-49f1-46c3-9046-b9406323b8ee",
   "metadata": {},
   "outputs": [
    {
     "data": {
      "text/html": [
       "<div>\n",
       "<style scoped>\n",
       "    .dataframe tbody tr th:only-of-type {\n",
       "        vertical-align: middle;\n",
       "    }\n",
       "\n",
       "    .dataframe tbody tr th {\n",
       "        vertical-align: top;\n",
       "    }\n",
       "\n",
       "    .dataframe thead th {\n",
       "        text-align: right;\n",
       "    }\n",
       "</style>\n",
       "<table border=\"1\" class=\"dataframe\">\n",
       "  <thead>\n",
       "    <tr style=\"text-align: right;\">\n",
       "      <th></th>\n",
       "      <th>zho_Hans</th>\n",
       "      <th>kor_Hang</th>\n",
       "    </tr>\n",
       "  </thead>\n",
       "  <tbody>\n",
       "    <tr>\n",
       "      <th>0</th>\n",
       "      <td>本方案的接触面膨胀型热熔断器涉及用于加热装置或加热部的接触面膨胀并且改善接触状态的热熔断器。</td>\n",
       "      <td>본 고안의 접면확장 감온퓨즈는, 발열기구나 발열부위에 대한 접촉면을 확장시킴과 동시...</td>\n",
       "    </tr>\n",
       "    <tr>\n",
       "      <th>1</th>\n",
       "      <td>可以沿着切割线高精度地切割要加工的物体。</td>\n",
       "      <td>절단 예정 라인에 따른 가공 대상물의 고정밀도 절단이 가능하게 된다.</td>\n",
       "    </tr>\n",
       "    <tr>\n",
       "      <th>2</th>\n",
       "      <td>根据本发明,有效地清洁了铜(Cu)布线工艺中产生的受污染的晶片,从而使铜(Cu)污染导致的晶...</td>\n",
       "      <td>본 발명에 의하면, 구리(Cu) 배선 공정에서 발생하는 오염된 웨이퍼를 효율적으로 ...</td>\n",
       "    </tr>\n",
       "    <tr>\n",
       "      <th>3</th>\n",
       "      <td>本方案公开了使用无电极灯的照明灯具,该无电极灯通过高频感应线圈的感应电动势使磷光体发出由放电...</td>\n",
       "      <td>본 고안은 고주파 유도 코일의 유도 기전력에 의하여 방전관내의 플라즈마 발생에 의한...</td>\n",
       "    </tr>\n",
       "    <tr>\n",
       "      <th>4</th>\n",
       "      <td>本发明涉及一种单向通信设备,其使得能够在发送终端与接收终端之间进行可靠的单向通信。</td>\n",
       "      <td>본 발명은 단방향 통신 장치로서, 송신 단말기와 수신 단말기 사이에 신뢰성 있는 단...</td>\n",
       "    </tr>\n",
       "    <tr>\n",
       "      <th>...</th>\n",
       "      <td>...</td>\n",
       "      <td>...</td>\n",
       "    </tr>\n",
       "    <tr>\n",
       "      <th>14995</th>\n",
       "      <td>本方案涉及一种电磁感应加热装置,更具体来说是涉及了识别用于炊具的容器,并控制该电磁感应加热装...</td>\n",
       "      <td>본 고안은 전자 유도가열장치로서, 더욱 상세하게는 조리기에 사용되는 용기를 식별하여...</td>\n",
       "    </tr>\n",
       "    <tr>\n",
       "      <th>14996</th>\n",
       "      <td>本方案涉及低压绕线管的扇形部分和模制壳体之间的组合结构,是为了在低压绕线管的扇形部分形成爪来...</td>\n",
       "      <td>본 고안은 저압보빈의 파이부와 몰딩케이스의 결합구조에 관한 것으로, 저압보빈의 파이...</td>\n",
       "    </tr>\n",
       "    <tr>\n",
       "      <th>14997</th>\n",
       "      <td>因此,由于无需诸如单独的焊接机或夹具的设备,仅在简单地插入组装工时的情况下进行旋钮的安装,因...</td>\n",
       "      <td>따라서 별도의 용착기나 지그 등의 장비없이 간단히 끼워주는 조립공수만으로 노브의 설...</td>\n",
       "    </tr>\n",
       "    <tr>\n",
       "      <th>14998</th>\n",
       "      <td>根据本发明,具有无需再备用电源插座中安装另外的开关,而是利用无线开关来控制备用电源插座的优点。</td>\n",
       "      <td>본 발명에 따르면 대기전력콘센트에 별도로 스위치를 설치하지 않고, 무선스위치를 이용...</td>\n",
       "    </tr>\n",
       "    <tr>\n",
       "      <th>14999</th>\n",
       "      <td>本发明是关于利用短信确认网页邮件的方法及系统。</td>\n",
       "      <td>본 발명은 단문메시지를 이용한 웹메일 확인 방법 및 시스템에 관한 것이다.</td>\n",
       "    </tr>\n",
       "  </tbody>\n",
       "</table>\n",
       "<p>15000 rows × 2 columns</p>\n",
       "</div>"
      ],
      "text/plain": [
       "                                                zho_Hans  \\\n",
       "0         本方案的接触面膨胀型热熔断器涉及用于加热装置或加热部的接触面膨胀并且改善接触状态的热熔断器。   \n",
       "1                                   可以沿着切割线高精度地切割要加工的物体。   \n",
       "2      根据本发明,有效地清洁了铜(Cu)布线工艺中产生的受污染的晶片,从而使铜(Cu)污染导致的晶...   \n",
       "3      本方案公开了使用无电极灯的照明灯具,该无电极灯通过高频感应线圈的感应电动势使磷光体发出由放电...   \n",
       "4              本发明涉及一种单向通信设备,其使得能够在发送终端与接收终端之间进行可靠的单向通信。   \n",
       "...                                                  ...   \n",
       "14995  本方案涉及一种电磁感应加热装置,更具体来说是涉及了识别用于炊具的容器,并控制该电磁感应加热装...   \n",
       "14996  本方案涉及低压绕线管的扇形部分和模制壳体之间的组合结构,是为了在低压绕线管的扇形部分形成爪来...   \n",
       "14997  因此,由于无需诸如单独的焊接机或夹具的设备,仅在简单地插入组装工时的情况下进行旋钮的安装,因...   \n",
       "14998    根据本发明,具有无需再备用电源插座中安装另外的开关,而是利用无线开关来控制备用电源插座的优点。   \n",
       "14999                            本发明是关于利用短信确认网页邮件的方法及系统。   \n",
       "\n",
       "                                                kor_Hang  \n",
       "0      본 고안의 접면확장 감온퓨즈는, 발열기구나 발열부위에 대한 접촉면을 확장시킴과 동시...  \n",
       "1                 절단 예정 라인에 따른 가공 대상물의 고정밀도 절단이 가능하게 된다.  \n",
       "2      본 발명에 의하면, 구리(Cu) 배선 공정에서 발생하는 오염된 웨이퍼를 효율적으로 ...  \n",
       "3      본 고안은 고주파 유도 코일의 유도 기전력에 의하여 방전관내의 플라즈마 발생에 의한...  \n",
       "4      본 발명은 단방향 통신 장치로서, 송신 단말기와 수신 단말기 사이에 신뢰성 있는 단...  \n",
       "...                                                  ...  \n",
       "14995  본 고안은 전자 유도가열장치로서, 더욱 상세하게는 조리기에 사용되는 용기를 식별하여...  \n",
       "14996  본 고안은 저압보빈의 파이부와 몰딩케이스의 결합구조에 관한 것으로, 저압보빈의 파이...  \n",
       "14997  따라서 별도의 용착기나 지그 등의 장비없이 간단히 끼워주는 조립공수만으로 노브의 설...  \n",
       "14998  본 발명에 따르면 대기전력콘센트에 별도로 스위치를 설치하지 않고, 무선스위치를 이용...  \n",
       "14999          본 발명은 단문메시지를 이용한 웹메일 확인 방법 및 시스템에 관한 것이다.  \n",
       "\n",
       "[15000 rows x 2 columns]"
      ]
     },
     "execution_count": 8,
     "metadata": {},
     "output_type": "execute_result"
    }
   ],
   "source": [
    "df_valid"
   ]
  },
  {
   "cell_type": "markdown",
   "id": "bce2dcf809532ea9",
   "metadata": {},
   "source": [
    "find the max length of the encodings"
   ]
  },
  {
   "cell_type": "code",
   "execution_count": 9,
   "id": "2f053fd6315b47e9",
   "metadata": {
    "collapsed": false,
    "jupyter": {
     "outputs_hidden": false
    },
    "tags": []
   },
   "outputs": [],
   "source": [
    "from sklearn.model_selection import train_test_split\n",
    "\n",
    "language_x = \"zho_Hans\"\n",
    "language_y = \"kor_Hang\"\n",
    "x_train = df_train[language_x].to_list()\n",
    "y_train = df_train[language_y].to_list()\n",
    "x_valid = df_valid[language_x].to_list()\n",
    "y_valid = df_valid[language_y].to_list()\n",
    "\n",
    "# 从训练集中抽出测试集，规模与验证集一致\n",
    "x_train, x_test, y_train, y_test = train_test_split(x_train, y_train, test_size=len(x_valid), random_state=42)"
   ]
  },
  {
   "cell_type": "code",
   "execution_count": 10,
   "id": "61fdc162-e4d7-4dd0-b8f2-0f99ae4bb68d",
   "metadata": {},
   "outputs": [],
   "source": [
    "# 保存到 CSV 文件\n",
    "import pandas as pd\n",
    "\n",
    "# 创建 DataFrame\n",
    "train_df = pd.DataFrame({language_x: x_train, language_y: y_train})\n",
    "valid_df = pd.DataFrame({language_x: x_valid, language_y: y_valid})\n",
    "test_df = pd.DataFrame({language_x: x_test, language_y: y_test})\n",
    "\n",
    "train_df.to_csv('data/train_data.csv', index=False)\n",
    "valid_df.to_csv('data/valid_data.csv', index=False)\n",
    "test_df.to_csv('data/test_data.csv', index=False)"
   ]
  },
  {
   "cell_type": "markdown",
   "id": "60b0d238363af592",
   "metadata": {},
   "source": [
    "Convert your encodings into torch Datasets object:"
   ]
  },
  {
   "cell_type": "raw",
   "id": "180d0cf0-36a2-4156-8cbd-e712908d0e47",
   "metadata": {},
   "source": [
    "确定tokenizer的max_length：\n",
    "理由：\n",
    "1.调整 model_max_length 可以缩短训练时间和减少内存使用，尤其当你的数据集的最大长度远小于模型默认的最大长度时。\n",
    "2.调整是暂时的：在微调过程中有效，但如果你想要永久性地保存这个设定，需要在保存和加载模型时确保配置更新。"
   ]
  },
  {
   "cell_type": "code",
   "execution_count": 11,
   "id": "9f7d25f4-a2eb-4680-9764-2d28670cadca",
   "metadata": {},
   "outputs": [
    {
     "data": {
      "application/vnd.jupyter.widget-view+json": {
       "model_id": "b179b77374c34ad790e6be45871e2f3a",
       "version_major": 2,
       "version_minor": 0
      },
      "text/plain": [
       "  0%|          | 0/270000 [00:00<?, ?it/s]"
      ]
     },
     "metadata": {},
     "output_type": "display_data"
    },
    {
     "name": "stdout",
     "output_type": "stream",
     "text": [
      "The 95% percentile length in the dataset is: 66\n"
     ]
    }
   ],
   "source": [
    "import numpy as np\n",
    "from tqdm.notebook import tqdm\n",
    "\n",
    "# 假设你已经有所有长度的列表\n",
    "lengths = []\n",
    "\n",
    "texts_all = x_train + y_train + x_valid + y_valid + x_test + y_test\n",
    "for text in tqdm(texts_all):\n",
    "    tokenized_text = tokenizer(text, truncation=False, padding=False)\n",
    "    lengths.append(len(tokenized_text['input_ids']))\n",
    "\n",
    "# 使用95%分位数来确定max_length\n",
    "max_length = int(np.percentile(lengths, 95))\n",
    "print(f\"The 95% percentile length in the dataset is: {max_length}\")\n",
    "\n",
    "tokenizer.max_length = max_length"
   ]
  },
  {
   "cell_type": "code",
   "execution_count": 12,
   "id": "b2b3c899-5e5a-432f-8daa-dc4543bf0427",
   "metadata": {},
   "outputs": [
    {
     "name": "stdout",
     "output_type": "stream",
     "text": [
      "tokenizing - source:zho_Hans, target:kor_Hang\n",
      "train encodings...\n",
      "valid encodings...\n",
      "test encodings...\n"
     ]
    }
   ],
   "source": [
    "# Note: we're now creating separate encodings for the inputs and outputs.\n",
    "# truncation: truncate the sequence to a shorter length, because sometimes a sequence may be too long for a model to handle\n",
    "# padding: Padding is a strategy for ensuring tensors are rectangular by adding a special padding token to shorter sentences.\n",
    "#     True or 'longest': Pad to the longest sequence in the batch (or no padding if only a single sequence if provided).\n",
    "#     'max_length': Pad to a maximum length specified with the argument max_length or to the maximum acceptable input length for the model if that argument is not provided.\n",
    "#     False or 'do_not_pad' (default): No padding (i.e., can output a batch with sequences of different lengths).\n",
    "# return_tensors: If set 'pt', will return tensors instead of list of python integers. Acceptable values are PyTorch torch.Tensor objects.\n",
    "# max_length (int, optional): Controls the maximu m length to use by one of the truncation/padding parameters.\n",
    "tokenizer.src_lang = language_x\n",
    "tokenizer.tgt_lang = language_y\n",
    "print(\"tokenizing - source:{}, target:{}\".format(language_x, language_y))\n",
    "print(\"train encodings...\")\n",
    "train_encodings = tokenizer(x_train, text_target=y_train, truncation=True, padding=\"max_length\", return_tensors=\"pt\")\n",
    "print(\"valid encodings...\")\n",
    "valid_encodings = tokenizer(x_valid, text_target=y_valid, truncation=True, padding=\"max_length\", return_tensors=\"pt\")\n",
    "print(\"test encodings...\")\n",
    "test_encodings = tokenizer(x_test, text_target=y_test, truncation=True, padding=\"max_length\", return_tensors=\"pt\")"
   ]
  },
  {
   "cell_type": "code",
   "execution_count": 13,
   "id": "9cbba6ff-a7e2-4d0d-bb9f-f92f4dfc797e",
   "metadata": {},
   "outputs": [],
   "source": [
    "import torch\n",
    "\n",
    "\n",
    "class TranslationDataset(torch.utils.data.Dataset):\n",
    "    def __init__(self, encodings):\n",
    "        self.encodings = encodings\n",
    "\n",
    "    def __getitem__(self, index):\n",
    "        item = {key: val[index] for key, val in self.encodings.items()}\n",
    "        return item\n",
    "\n",
    "    def __len__(self):\n",
    "        return len(self.encodings[\"input_ids\"])"
   ]
  },
  {
   "cell_type": "code",
   "execution_count": 14,
   "id": "4e174377-b96b-449d-a5f8-e8dcda289d59",
   "metadata": {},
   "outputs": [],
   "source": [
    "train_dataset = TranslationDataset(train_encodings)\n",
    "valid_dataset = TranslationDataset(valid_encodings)\n",
    "test_dataset = TranslationDataset(test_encodings)"
   ]
  },
  {
   "cell_type": "markdown",
   "id": "2eace3117637b2e4",
   "metadata": {},
   "source": [
    "Load the pretrained model:"
   ]
  },
  {
   "cell_type": "code",
   "execution_count": 15,
   "id": "a645a12389e7bf5f",
   "metadata": {
    "collapsed": false,
    "is_executing": true,
    "jupyter": {
     "outputs_hidden": false
    },
    "tags": []
   },
   "outputs": [],
   "source": [
    "from transformers import AutoModelForSeq2SeqLM\n",
    "\n",
    "model = AutoModelForSeq2SeqLM.from_pretrained(model_dir, device_map=\"auto\")"
   ]
  },
  {
   "cell_type": "markdown",
   "id": "b9edf04b785e4cb9",
   "metadata": {},
   "source": [
    "Define your training arguments and train the model:"
   ]
  },
  {
   "cell_type": "code",
   "execution_count": 16,
   "id": "d93029063caf5b0c",
   "metadata": {
    "collapsed": false,
    "is_executing": true,
    "jupyter": {
     "outputs_hidden": false
    },
    "tags": []
   },
   "outputs": [],
   "source": [
    "new_model_name = \"zh2ko_based_on_{0}\".format(model_name)\n",
    "\n",
    "new_model_dir = os.path.join(data_disk_dir, new_model_name)"
   ]
  },
  {
   "cell_type": "code",
   "execution_count": 17,
   "id": "27077c1f4b1abe29",
   "metadata": {
    "collapsed": false,
    "is_executing": true,
    "jupyter": {
     "outputs_hidden": false
    },
    "tags": []
   },
   "outputs": [],
   "source": [
    "from transformers import Trainer, TrainingArguments, IntervalStrategy\n",
    "\n",
    "# 每1/5 Epoch处验证、记录、保存一次\n",
    "log_steps = len(x_train) / 5\n",
    "\n",
    "# fp16：半精度运算，启用后提高一倍以上运算速度，不影响loss\n",
    "# gradient_accumulation_steps：steps越大，速度越快，loss越高\n",
    "# gradient_checkpointing：启用后，降低30%左右速度，节省显存2/3\n",
    "# per_device_train_batch_size：size越大，GPU占用率越大，速度越快，loss越高，几乎成正比\n",
    "training_args = TrainingArguments(new_model_dir,\n",
    "                                  num_train_epochs=10,\n",
    "                                  per_device_eval_batch_size=1,\n",
    "                                  per_device_train_batch_size=1,\n",
    "                                  gradient_accumulation_steps=1,\n",
    "                                  gradient_checkpointing=False,\n",
    "                                  fp16=True,\n",
    "                                  warmup_ratio=0.1,\n",
    "                                  eval_strategy=IntervalStrategy.STEPS,\n",
    "                                  eval_steps=log_steps,\n",
    "                                  logging_strategy=IntervalStrategy.STEPS,\n",
    "                                  logging_steps=log_steps,\n",
    "                                  save_strategy=IntervalStrategy.STEPS,\n",
    "                                  save_steps=log_steps,\n",
    "                                  save_total_limit=1,\n",
    "                                  load_best_model_at_end=True\n",
    "                                  )"
   ]
  },
  {
   "cell_type": "code",
   "execution_count": 18,
   "id": "f16d4747195f6595",
   "metadata": {
    "collapsed": false,
    "is_executing": true,
    "jupyter": {
     "outputs_hidden": false
    },
    "tags": []
   },
   "outputs": [],
   "source": [
    "from transformers import EarlyStoppingCallback\n",
    "\n",
    "\n",
    "# ！！！猜测Transformer的原生Trainer存在显存泄露的问题，根据论坛上的神贴，做出如下修改：\n",
    "# https://discuss.huggingface.co/t/cuda-out-of-memory-when-using-trainer-with-compute-metrics/2941/13\n",
    "def preprocess_logits_for_metrics(logits, labels):\n",
    "    \"\"\"\n",
    "    Original Trainer may have a memory leak. \n",
    "    This is a workaround to avoid storing too many tensors that are not needed.\n",
    "    \"\"\"\n",
    "    pred_ids = torch.argmax(logits[0], dim=-1)\n",
    "    return pred_ids, labels\n",
    "\n",
    "\n",
    "trainer = Trainer(\n",
    "    model=model,  # the instantiated 🤗 Transformers model to be trained\n",
    "    args=training_args,  # training arguments, defined above\n",
    "    train_dataset=train_dataset,  # training dataset\n",
    "    eval_dataset=valid_dataset,  # valid dataset\n",
    "    callbacks=[EarlyStoppingCallback(early_stopping_patience=3)],\n",
    "    preprocess_logits_for_metrics=preprocess_logits_for_metrics\n",
    ")"
   ]
  },
  {
   "cell_type": "raw",
   "id": "abcecbf0-e9de-428c-a366-4b1cf61453be",
   "metadata": {},
   "source": [
    "Test the base model before fine-tuning:"
   ]
  },
  {
   "cell_type": "code",
   "execution_count": 19,
   "id": "6c799af7-5d54-458c-b4af-6866456347ab",
   "metadata": {},
   "outputs": [
    {
     "data": {
      "text/html": [],
      "text/plain": [
       "<IPython.core.display.HTML object>"
      ]
     },
     "metadata": {},
     "output_type": "display_data"
    }
   ],
   "source": [
    "# 在测试数据集上进行预测\n",
    "test_results = trainer.predict(test_dataset)\n",
    "\n",
    "# 获取预测结果\n",
    "predictions = test_results.predictions\n",
    "labels = test_results.label_ids\n",
    "metrics = test_results.metrics"
   ]
  },
  {
   "cell_type": "code",
   "execution_count": 20,
   "id": "da5df31d-fbbd-43d6-a28c-254b30fee8d6",
   "metadata": {},
   "outputs": [
    {
     "data": {
      "text/plain": [
       "{'test_loss': 0.03576750308275223,\n",
       " 'test_runtime': 653.417,\n",
       " 'test_samples_per_second': 22.956,\n",
       " 'test_steps_per_second': 22.956}"
      ]
     },
     "execution_count": 20,
     "metadata": {},
     "output_type": "execute_result"
    }
   ],
   "source": [
    "# 输出评估指标\n",
    "metrics"
   ]
  },
  {
   "cell_type": "code",
   "execution_count": 21,
   "id": "8d9a315c-4e2c-4496-9e65-0c3b60cb2d94",
   "metadata": {},
   "outputs": [],
   "source": [
    "# 解码\n",
    "references_array, target_texts_array = predictions\n",
    "references = [tokenizer.decode(encoding, skip_special_tokens=True) for encoding in references_array]\n",
    "target_texts = [tokenizer.decode(encoding, skip_special_tokens=True) for encoding in target_texts_array]"
   ]
  },
  {
   "cell_type": "code",
   "execution_count": 22,
   "id": "0a1f77e9-9268-421c-b894-7b0a639d1827",
   "metadata": {},
   "outputs": [
    {
     "data": {
      "text/html": [
       "<div>\n",
       "<style scoped>\n",
       "    .dataframe tbody tr th:only-of-type {\n",
       "        vertical-align: middle;\n",
       "    }\n",
       "\n",
       "    .dataframe tbody tr th {\n",
       "        vertical-align: top;\n",
       "    }\n",
       "\n",
       "    .dataframe thead th {\n",
       "        text-align: right;\n",
       "    }\n",
       "</style>\n",
       "<table border=\"1\" class=\"dataframe\">\n",
       "  <thead>\n",
       "    <tr style=\"text-align: right;\">\n",
       "      <th></th>\n",
       "      <th>source_texts</th>\n",
       "      <th>target_texts</th>\n",
       "      <th>references</th>\n",
       "    </tr>\n",
       "  </thead>\n",
       "  <tbody>\n",
       "    <tr>\n",
       "      <th>0</th>\n",
       "      <td>提供了一种通过输出在移动通信终端上显示的附加内容作为广告数据来降低终端的价格并降低通信成本的方法。</td>\n",
       "      <td>이동통신 단말기에서 표시되는 부가 내용을 광고 데이터로 출력하도록 하여 단말기의 가...</td>\n",
       "      <td>이동통신 단말기에 표시되는 부가 컨 광고 데이터로 출력하여 함 단말기의 가격을 낮추...</td>\n",
       "    </tr>\n",
       "    <tr>\n",
       "      <th>1</th>\n",
       "      <td>当在第九步中确定的环境亮度较亮时,将照原样输出在第四,第六和第七步中确定的声音值,并在第十一...</td>\n",
       "      <td>상기 제 9 단계에서 판별한 주변 밝기가 밝은 경우, 상기 제 4, 6, 7 단계에...</td>\n",
       "      <td>상기 제9단 결정정된 주 밝기가 밝 경우에는, 상기 제 4, 6, 7 단계에서 판된...</td>\n",
       "    </tr>\n",
       "    <tr>\n",
       "      <th>2</th>\n",
       "      <td>有效地使用带摄像头的手机等中安装的发光二极管(LED)。</td>\n",
       "      <td>카메라 부착 휴대 전화기 등에 설치된 LED를 효율적으로 이용한다.</td>\n",
       "      <td>카메라가착 휴대폰 전화기 등에 설치된 발를 효율적으로 사용한다.</td>\n",
       "    </tr>\n",
       "    <tr>\n",
       "      <th>3</th>\n",
       "      <td>其涉及在将晶圆传送至工艺腔体的过程和对晶圆进行蚀刻工艺的过程中减少晶圆工艺面污染的半导体装置...</td>\n",
       "      <td>웨이퍼를 공정챔버로 이송시키는 과정과 웨이퍼에 식각 공정을 수행하는 과정에서 웨이퍼...</td>\n",
       "      <td>웨이퍼를 공정챔버로 이송하는 공정과 웨이퍼를 대한각공정을 진행하는 과정에서 웨이퍼 ...</td>\n",
       "    </tr>\n",
       "    <tr>\n",
       "      <th>4</th>\n",
       "      <td>其提供有机发光器件,该有机发光器件能够将从有机发光单元发出的光聚集到一个地方以提高光利用效率...</td>\n",
       "      <td>유기 발광셀에서 방출되는 빛을 한곳으로 집중시켜 광 이용 효율을 향상시키고, 인접 ...</td>\n",
       "      <td>유기발광부로부터 발출된 광 한 곳으로에 집시켜 광 이용 효율을 높시키고 인 인접한소...</td>\n",
       "    </tr>\n",
       "    <tr>\n",
       "      <th>...</th>\n",
       "      <td>...</td>\n",
       "      <td>...</td>\n",
       "      <td>...</td>\n",
       "    </tr>\n",
       "    <tr>\n",
       "      <th>14995</th>\n",
       "      <td>根据本发明的防潮防湿配电箱的构造如下。</td>\n",
       "      <td>본 발명에 의한 냉각 방습 배전함은 다음과 같이 구성된다.</td>\n",
       "      <td>본 발명에 따른 방습수습 배전함 다음과 같이 구성된다.</td>\n",
       "    </tr>\n",
       "    <tr>\n",
       "      <th>14996</th>\n",
       "      <td>本发明为了射频卡与射频终端机间的畅通通信,提出了射频终端机上附加的机械装置和为驱动该装置的电...</td>\n",
       "      <td>본 발명은 RF카드와 RF단말기간의 원활한 통신을 위하여 RF단말기에 추가될 기계적...</td>\n",
       "      <td>본 발명은 RF카드와 RF단말기간의 원활한 통신을 위해 RF단말기에 부되는 수장 장...</td>\n",
       "    </tr>\n",
       "    <tr>\n",
       "      <th>14997</th>\n",
       "      <td>本方案涉及通过发送和接收音响信号来控制设备的无电源远程控制设备。</td>\n",
       "      <td>본 고안은 음향신호의 송수신에 의해 기기를 제어하는 무전원 원격제어장치에 관한 것이다.</td>\n",
       "      <td>본 고안은 오향신호를 송수신을으로 의해 기기를 제어하는 무전원 원격제어장치에 관한 ...</td>\n",
       "    </tr>\n",
       "    <tr>\n",
       "      <th>14998</th>\n",
       "      <td>本发明涉及一种在呼叫中改变用于移动通信终端的FA以根据呼叫期间的系统负载实时地改变终端的FA...</td>\n",
       "      <td>본 발명은 통화 중에 시스템의 로드에 따라 실시간으로 단말의 FA를 변경하도록 하는...</td>\n",
       "      <td>본 발명은 통화 중 시스템 부드에 따라 단으로 단말의 FA를 변경하도록 통화 통화중...</td>\n",
       "    </tr>\n",
       "    <tr>\n",
       "      <th>14999</th>\n",
       "      <td>进一步地,铅蓄电池或锂离子电池具有产品的手动选择开关,使用户可以根据需要仅选择该电池并充电。</td>\n",
       "      <td>더 나아가서 납축전지 또는 리 이온전지는 제품의 수동적인 선택 스위치를 두어 사용자...</td>\n",
       "      <td>나아가 나아가,,축전지나 리이온전지는 제품의 수동선 선택스치를 구어 사용자가로 하여...</td>\n",
       "    </tr>\n",
       "  </tbody>\n",
       "</table>\n",
       "<p>15000 rows × 3 columns</p>\n",
       "</div>"
      ],
      "text/plain": [
       "                                            source_texts  \\\n",
       "0      提供了一种通过输出在移动通信终端上显示的附加内容作为广告数据来降低终端的价格并降低通信成本的方法。   \n",
       "1      当在第九步中确定的环境亮度较亮时,将照原样输出在第四,第六和第七步中确定的声音值,并在第十一...   \n",
       "2                           有效地使用带摄像头的手机等中安装的发光二极管(LED)。   \n",
       "3      其涉及在将晶圆传送至工艺腔体的过程和对晶圆进行蚀刻工艺的过程中减少晶圆工艺面污染的半导体装置...   \n",
       "4      其提供有机发光器件,该有机发光器件能够将从有机发光单元发出的光聚集到一个地方以提高光利用效率...   \n",
       "...                                                  ...   \n",
       "14995                                根据本发明的防潮防湿配电箱的构造如下。   \n",
       "14996  本发明为了射频卡与射频终端机间的畅通通信,提出了射频终端机上附加的机械装置和为驱动该装置的电...   \n",
       "14997                   本方案涉及通过发送和接收音响信号来控制设备的无电源远程控制设备。   \n",
       "14998  本发明涉及一种在呼叫中改变用于移动通信终端的FA以根据呼叫期间的系统负载实时地改变终端的FA...   \n",
       "14999     进一步地,铅蓄电池或锂离子电池具有产品的手动选择开关,使用户可以根据需要仅选择该电池并充电。   \n",
       "\n",
       "                                            target_texts  \\\n",
       "0      이동통신 단말기에서 표시되는 부가 내용을 광고 데이터로 출력하도록 하여 단말기의 가...   \n",
       "1      상기 제 9 단계에서 판별한 주변 밝기가 밝은 경우, 상기 제 4, 6, 7 단계에...   \n",
       "2                  카메라 부착 휴대 전화기 등에 설치된 LED를 효율적으로 이용한다.   \n",
       "3      웨이퍼를 공정챔버로 이송시키는 과정과 웨이퍼에 식각 공정을 수행하는 과정에서 웨이퍼...   \n",
       "4      유기 발광셀에서 방출되는 빛을 한곳으로 집중시켜 광 이용 효율을 향상시키고, 인접 ...   \n",
       "...                                                  ...   \n",
       "14995                   본 발명에 의한 냉각 방습 배전함은 다음과 같이 구성된다.   \n",
       "14996  본 발명은 RF카드와 RF단말기간의 원활한 통신을 위하여 RF단말기에 추가될 기계적...   \n",
       "14997   본 고안은 음향신호의 송수신에 의해 기기를 제어하는 무전원 원격제어장치에 관한 것이다.   \n",
       "14998  본 발명은 통화 중에 시스템의 로드에 따라 실시간으로 단말의 FA를 변경하도록 하는...   \n",
       "14999  더 나아가서 납축전지 또는 리 이온전지는 제품의 수동적인 선택 스위치를 두어 사용자...   \n",
       "\n",
       "                                              references  \n",
       "0      이동통신 단말기에 표시되는 부가 컨 광고 데이터로 출력하여 함 단말기의 가격을 낮추...  \n",
       "1      상기 제9단 결정정된 주 밝기가 밝 경우에는, 상기 제 4, 6, 7 단계에서 판된...  \n",
       "2                    카메라가착 휴대폰 전화기 등에 설치된 발를 효율적으로 사용한다.  \n",
       "3      웨이퍼를 공정챔버로 이송하는 공정과 웨이퍼를 대한각공정을 진행하는 과정에서 웨이퍼 ...  \n",
       "4      유기발광부로부터 발출된 광 한 곳으로에 집시켜 광 이용 효율을 높시키고 인 인접한소...  \n",
       "...                                                  ...  \n",
       "14995                     본 발명에 따른 방습수습 배전함 다음과 같이 구성된다.  \n",
       "14996  본 발명은 RF카드와 RF단말기간의 원활한 통신을 위해 RF단말기에 부되는 수장 장...  \n",
       "14997  본 고안은 오향신호를 송수신을으로 의해 기기를 제어하는 무전원 원격제어장치에 관한 ...  \n",
       "14998  본 발명은 통화 중 시스템 부드에 따라 단으로 단말의 FA를 변경하도록 통화 통화중...  \n",
       "14999  나아가 나아가,,축전지나 리이온전지는 제품의 수동선 선택스치를 구어 사용자가로 하여...  \n",
       "\n",
       "[15000 rows x 3 columns]"
      ]
     },
     "execution_count": 22,
     "metadata": {},
     "output_type": "execute_result"
    }
   ],
   "source": [
    "source_texts = x_test\n",
    "\n",
    "df_result = pd.DataFrame({\n",
    "    \"source_texts\": source_texts,\n",
    "    \"target_texts\": target_texts,\n",
    "    \"references\": references,\n",
    "})\n",
    "df_result"
   ]
  },
  {
   "cell_type": "code",
   "execution_count": 23,
   "id": "033b954f-60c3-4dcc-a937-a1b74ed61d16",
   "metadata": {},
   "outputs": [],
   "source": [
    "file_name = \"results_of_{0}\".format(model_name)\n",
    "df_result.to_excel(\"{0}.xlsx\".format(file_name), index=False)\n",
    "df_result.to_csv(\"{0}.csv\".format(file_name), index=False)"
   ]
  },
  {
   "cell_type": "code",
   "execution_count": 24,
   "id": "13b3d7de-b885-4bf1-8aa4-64a95fd506a2",
   "metadata": {},
   "outputs": [
    {
     "data": {
      "text/plain": [
       "0.7068739162535101"
      ]
     },
     "execution_count": 24,
     "metadata": {},
     "output_type": "execute_result"
    }
   ],
   "source": [
    "from nltk.translate.bleu_score import corpus_bleu\n",
    "\n",
    "# corpus_bleu 的结果更稳健，因为它是基于整个语料库的平均分数计算的，而 sentence_bleu 仅基于单个句子。\n",
    "# 注：nltk3.8.1和python 3.12有点问题，要么降低python版本，要么按照以下链接的指导去修改bleu_score.py文件\n",
    "# https://github.com/nltk/nltk/pull/3207\n",
    "# https://github.com/nltk/nltk/blob/develop/nltk/translate/bleu_score.py\n",
    "score = corpus_bleu([[reference] for reference in references], target_texts)\n",
    "score"
   ]
  },
  {
   "cell_type": "raw",
   "id": "7d2d0e37-779b-4f6b-afc9-befcc62bb2dd",
   "metadata": {},
   "source": [
    "Start fine-tuning:"
   ]
  },
  {
   "cell_type": "code",
   "execution_count": 27,
   "id": "0b838ba6-546e-416a-969a-8b558358c71d",
   "metadata": {},
   "outputs": [
    {
     "name": "stderr",
     "output_type": "stream",
     "text": [
      "There were missing keys in the checkpoint model loaded: ['model.encoder.embed_tokens.weight', 'model.decoder.embed_tokens.weight', 'lm_head.weight'].\n"
     ]
    },
    {
     "data": {
      "text/html": [
       "\n",
       "    <div>\n",
       "      \n",
       "      <progress value='360908' max='1050000' style='width:300px; height:20px; vertical-align: middle;'></progress>\n",
       "      [ 360908/1050000 2:54:56 < 43:46:09, 4.37 it/s, Epoch 3.44/10]\n",
       "    </div>\n",
       "    <table border=\"1\" class=\"dataframe\">\n",
       "  <thead>\n",
       " <tr style=\"text-align: left;\">\n",
       "      <th>Step</th>\n",
       "      <th>Training Loss</th>\n",
       "      <th>Validation Loss</th>\n",
       "    </tr>\n",
       "  </thead>\n",
       "  <tbody>\n",
       "    <tr>\n",
       "      <td>336000</td>\n",
       "      <td>0.031100</td>\n",
       "      <td>0.035885</td>\n",
       "    </tr>\n",
       "    <tr>\n",
       "      <td>357000</td>\n",
       "      <td>0.032000</td>\n",
       "      <td>0.035748</td>\n",
       "    </tr>\n",
       "  </tbody>\n",
       "</table><p>"
      ],
      "text/plain": [
       "<IPython.core.display.HTML object>"
      ]
     },
     "metadata": {},
     "output_type": "display_data"
    },
    {
     "name": "stderr",
     "output_type": "stream",
     "text": [
      "Some non-default generation parameters are set in the model config. These should go into a GenerationConfig file (https://huggingface.co/docs/transformers/generation_strategies#save-a-custom-decoding-strategy-with-your-model) instead. This warning will be raised to an exception in v4.41.\n",
      "Non-default generation parameters: {'max_length': 200}\n",
      "IOPub message rate exceeded.\n",
      "The Jupyter server will temporarily stop sending output\n",
      "to the client in order to avoid crashing it.\n",
      "To change this limit, set the config variable\n",
      "`--ServerApp.iopub_msg_rate_limit`.\n",
      "\n",
      "Current values:\n",
      "ServerApp.iopub_msg_rate_limit=1000.0 (msgs/sec)\n",
      "ServerApp.rate_limit_window=3.0 (secs)\n",
      "\n",
      "Some non-default generation parameters are set in the model config. These should go into a GenerationConfig file (https://huggingface.co/docs/transformers/generation_strategies#save-a-custom-decoding-strategy-with-your-model) instead. This warning will be raised to an exception in v4.41.\n",
      "Non-default generation parameters: {'max_length': 200}\n",
      "IOPub message rate exceeded.\n",
      "The Jupyter server will temporarily stop sending output\n",
      "to the client in order to avoid crashing it.\n",
      "To change this limit, set the config variable\n",
      "`--ServerApp.iopub_msg_rate_limit`.\n",
      "\n",
      "Current values:\n",
      "ServerApp.iopub_msg_rate_limit=1000.0 (msgs/sec)\n",
      "ServerApp.rate_limit_window=3.0 (secs)\n",
      "\n"
     ]
    }
   ],
   "source": [
    "# trainer.train(resume_from_checkpoint=True)\n",
    "trainer.train(resume_from_checkpoint=\"autodl-tmp/zh2ko_based_on_nllb-200-distilled-600M/checkpoint-315000\")\n",
    "# trainer.train(resume_from_checkpoint=False)"
   ]
  },
  {
   "cell_type": "markdown",
   "id": "bd500d4370c1be89",
   "metadata": {},
   "source": [
    "Save your fine-tuned model and tokenizer:"
   ]
  },
  {
   "cell_type": "code",
   "execution_count": 28,
   "id": "4947d832b548d386",
   "metadata": {
    "collapsed": false,
    "is_executing": true,
    "jupyter": {
     "outputs_hidden": false
    },
    "tags": []
   },
   "outputs": [
    {
     "name": "stderr",
     "output_type": "stream",
     "text": [
      "Some non-default generation parameters are set in the model config. These should go into a GenerationConfig file (https://huggingface.co/docs/transformers/generation_strategies#save-a-custom-decoding-strategy-with-your-model) instead. This warning will be raised to an exception in v4.41.\n",
      "Non-default generation parameters: {'max_length': 200}\n"
     ]
    }
   ],
   "source": [
    "trainer.save_model(new_model_dir)\n",
    "tokenizer.save_pretrained(new_model_dir)\n",
    "trainer.save_state()"
   ]
  },
  {
   "cell_type": "raw",
   "id": "aef48330-bc9c-4a4e-9f70-c2fd9b30899d",
   "metadata": {},
   "source": [
    "Predict & Calculate test loss & BLEU score:"
   ]
  },
  {
   "cell_type": "code",
   "execution_count": 29,
   "id": "45c4b896-1987-4fd4-9fa1-c7e994804182",
   "metadata": {},
   "outputs": [
    {
     "data": {
      "text/html": [
       "\n",
       "    <div>\n",
       "      \n",
       "      <progress value='11982' max='15000' style='width:300px; height:20px; vertical-align: middle;'></progress>\n",
       "      [11982/15000 08:42 < 02:11, 22.95 it/s]\n",
       "    </div>\n",
       "    "
      ],
      "text/plain": [
       "<IPython.core.display.HTML object>"
      ]
     },
     "metadata": {},
     "output_type": "display_data"
    },
    {
     "name": "stderr",
     "output_type": "stream",
     "text": [
      "IOPub message rate exceeded.\n",
      "The Jupyter server will temporarily stop sending output\n",
      "to the client in order to avoid crashing it.\n",
      "To change this limit, set the config variable\n",
      "`--ServerApp.iopub_msg_rate_limit`.\n",
      "\n",
      "Current values:\n",
      "ServerApp.iopub_msg_rate_limit=1000.0 (msgs/sec)\n",
      "ServerApp.rate_limit_window=3.0 (secs)\n",
      "\n"
     ]
    }
   ],
   "source": [
    "# 在测试数据集上进行预测\n",
    "test_results = trainer.predict(test_dataset)\n",
    "\n",
    "# 获取预测结果\n",
    "predictions = test_results.predictions\n",
    "labels = test_results.label_ids\n",
    "metrics = test_results.metrics"
   ]
  },
  {
   "cell_type": "code",
   "execution_count": 30,
   "id": "124a2360-69bf-444a-ad49-e72528bfc1df",
   "metadata": {},
   "outputs": [
    {
     "data": {
      "text/plain": [
       "{'test_loss': 0.03576750308275223,\n",
       " 'test_runtime': 655.1329,\n",
       " 'test_samples_per_second': 22.896,\n",
       " 'test_steps_per_second': 22.896}"
      ]
     },
     "execution_count": 30,
     "metadata": {},
     "output_type": "execute_result"
    }
   ],
   "source": [
    "# 输出评估指标\n",
    "metrics"
   ]
  },
  {
   "cell_type": "code",
   "execution_count": 31,
   "id": "7cb52f25-cbe6-4565-b0ae-947b06f6a15f",
   "metadata": {},
   "outputs": [],
   "source": [
    "references_array, target_texts_array = predictions\n",
    "\n",
    "# 对两个数组中的每一个编码进行解码\n",
    "references = [tokenizer.decode(encoding, skip_special_tokens=True) for encoding in references_array]\n",
    "target_texts = [tokenizer.decode(encoding, skip_special_tokens=True) for encoding in target_texts_array]"
   ]
  },
  {
   "cell_type": "code",
   "execution_count": 32,
   "id": "94615516-4ec2-4882-87a7-6173ecbda34c",
   "metadata": {},
   "outputs": [
    {
     "data": {
      "text/html": [
       "<div>\n",
       "<style scoped>\n",
       "    .dataframe tbody tr th:only-of-type {\n",
       "        vertical-align: middle;\n",
       "    }\n",
       "\n",
       "    .dataframe tbody tr th {\n",
       "        vertical-align: top;\n",
       "    }\n",
       "\n",
       "    .dataframe thead th {\n",
       "        text-align: right;\n",
       "    }\n",
       "</style>\n",
       "<table border=\"1\" class=\"dataframe\">\n",
       "  <thead>\n",
       "    <tr style=\"text-align: right;\">\n",
       "      <th></th>\n",
       "      <th>source_texts</th>\n",
       "      <th>target_texts</th>\n",
       "      <th>references</th>\n",
       "    </tr>\n",
       "  </thead>\n",
       "  <tbody>\n",
       "    <tr>\n",
       "      <th>0</th>\n",
       "      <td>提供了一种通过输出在移动通信终端上显示的附加内容作为广告数据来降低终端的价格并降低通信成本的方法。</td>\n",
       "      <td>이동통신 단말기에서 표시되는 부가 내용을 광고 데이터로 출력하도록 하여 단말기의 가...</td>\n",
       "      <td>이동통신 단말기에 표시되는 부가 컨 광고 데이터로 출력하여 함 단말기의 가격을 낮추...</td>\n",
       "    </tr>\n",
       "    <tr>\n",
       "      <th>1</th>\n",
       "      <td>当在第九步中确定的环境亮度较亮时,将照原样输出在第四,第六和第七步中确定的声音值,并在第十一...</td>\n",
       "      <td>상기 제 9 단계에서 판별한 주변 밝기가 밝은 경우, 상기 제 4, 6, 7 단계에...</td>\n",
       "      <td>상기 제9단 결정정된 주 밝기가 밝 경우에는, 상기 제 4, 6, 7 단계에서 판된...</td>\n",
       "    </tr>\n",
       "    <tr>\n",
       "      <th>2</th>\n",
       "      <td>有效地使用带摄像头的手机等中安装的发光二极管(LED)。</td>\n",
       "      <td>카메라 부착 휴대 전화기 등에 설치된 LED를 효율적으로 이용한다.</td>\n",
       "      <td>카메라가착 휴대폰 전화기 등에 설치된 발를 효율적으로 사용한다.</td>\n",
       "    </tr>\n",
       "    <tr>\n",
       "      <th>3</th>\n",
       "      <td>其涉及在将晶圆传送至工艺腔体的过程和对晶圆进行蚀刻工艺的过程中减少晶圆工艺面污染的半导体装置...</td>\n",
       "      <td>웨이퍼를 공정챔버로 이송시키는 과정과 웨이퍼에 식각 공정을 수행하는 과정에서 웨이퍼...</td>\n",
       "      <td>웨이퍼를 공정챔버로 이송하는 공정과 웨이퍼를 대한각공정을 진행하는 과정에서 웨이퍼 ...</td>\n",
       "    </tr>\n",
       "    <tr>\n",
       "      <th>4</th>\n",
       "      <td>其提供有机发光器件,该有机发光器件能够将从有机发光单元发出的光聚集到一个地方以提高光利用效率...</td>\n",
       "      <td>유기 발광셀에서 방출되는 빛을 한곳으로 집중시켜 광 이용 효율을 향상시키고, 인접 ...</td>\n",
       "      <td>유기발광부로부터 발출된 광 한 곳으로에 집시켜 광 이용 효율을 높시키고 인 인접한소...</td>\n",
       "    </tr>\n",
       "    <tr>\n",
       "      <th>...</th>\n",
       "      <td>...</td>\n",
       "      <td>...</td>\n",
       "      <td>...</td>\n",
       "    </tr>\n",
       "    <tr>\n",
       "      <th>14995</th>\n",
       "      <td>根据本发明的防潮防湿配电箱的构造如下。</td>\n",
       "      <td>본 발명에 의한 냉각 방습 배전함은 다음과 같이 구성된다.</td>\n",
       "      <td>본 발명에 따른 방습수습 배전함 다음과 같이 구성된다.</td>\n",
       "    </tr>\n",
       "    <tr>\n",
       "      <th>14996</th>\n",
       "      <td>本发明为了射频卡与射频终端机间的畅通通信,提出了射频终端机上附加的机械装置和为驱动该装置的电...</td>\n",
       "      <td>본 발명은 RF카드와 RF단말기간의 원활한 통신을 위하여 RF단말기에 추가될 기계적...</td>\n",
       "      <td>본 발명은 RF카드와 RF단말기간의 원활한 통신을 위해 RF단말기에 부되는 수장 장...</td>\n",
       "    </tr>\n",
       "    <tr>\n",
       "      <th>14997</th>\n",
       "      <td>本方案涉及通过发送和接收音响信号来控制设备的无电源远程控制设备。</td>\n",
       "      <td>본 고안은 음향신호의 송수신에 의해 기기를 제어하는 무전원 원격제어장치에 관한 것이다.</td>\n",
       "      <td>본 고안은 오향신호를 송수신을으로 의해 기기를 제어하는 무전원 원격제어장치에 관한 ...</td>\n",
       "    </tr>\n",
       "    <tr>\n",
       "      <th>14998</th>\n",
       "      <td>本发明涉及一种在呼叫中改变用于移动通信终端的FA以根据呼叫期间的系统负载实时地改变终端的FA...</td>\n",
       "      <td>본 발명은 통화 중에 시스템의 로드에 따라 실시간으로 단말의 FA를 변경하도록 하는...</td>\n",
       "      <td>본 발명은 통화 중 시스템 부드에 따라 단으로 단말의 FA를 변경하도록 통화 통화중...</td>\n",
       "    </tr>\n",
       "    <tr>\n",
       "      <th>14999</th>\n",
       "      <td>进一步地,铅蓄电池或锂离子电池具有产品的手动选择开关,使用户可以根据需要仅选择该电池并充电。</td>\n",
       "      <td>더 나아가서 납축전지 또는 리 이온전지는 제품의 수동적인 선택 스위치를 두어 사용자...</td>\n",
       "      <td>나아가 나아가,,축전지나 리이온전지는 제품의 수동선 선택스치를 구어 사용자가로 하여...</td>\n",
       "    </tr>\n",
       "  </tbody>\n",
       "</table>\n",
       "<p>15000 rows × 3 columns</p>\n",
       "</div>"
      ],
      "text/plain": [
       "                                            source_texts  \\\n",
       "0      提供了一种通过输出在移动通信终端上显示的附加内容作为广告数据来降低终端的价格并降低通信成本的方法。   \n",
       "1      当在第九步中确定的环境亮度较亮时,将照原样输出在第四,第六和第七步中确定的声音值,并在第十一...   \n",
       "2                           有效地使用带摄像头的手机等中安装的发光二极管(LED)。   \n",
       "3      其涉及在将晶圆传送至工艺腔体的过程和对晶圆进行蚀刻工艺的过程中减少晶圆工艺面污染的半导体装置...   \n",
       "4      其提供有机发光器件,该有机发光器件能够将从有机发光单元发出的光聚集到一个地方以提高光利用效率...   \n",
       "...                                                  ...   \n",
       "14995                                根据本发明的防潮防湿配电箱的构造如下。   \n",
       "14996  本发明为了射频卡与射频终端机间的畅通通信,提出了射频终端机上附加的机械装置和为驱动该装置的电...   \n",
       "14997                   本方案涉及通过发送和接收音响信号来控制设备的无电源远程控制设备。   \n",
       "14998  本发明涉及一种在呼叫中改变用于移动通信终端的FA以根据呼叫期间的系统负载实时地改变终端的FA...   \n",
       "14999     进一步地,铅蓄电池或锂离子电池具有产品的手动选择开关,使用户可以根据需要仅选择该电池并充电。   \n",
       "\n",
       "                                            target_texts  \\\n",
       "0      이동통신 단말기에서 표시되는 부가 내용을 광고 데이터로 출력하도록 하여 단말기의 가...   \n",
       "1      상기 제 9 단계에서 판별한 주변 밝기가 밝은 경우, 상기 제 4, 6, 7 단계에...   \n",
       "2                  카메라 부착 휴대 전화기 등에 설치된 LED를 효율적으로 이용한다.   \n",
       "3      웨이퍼를 공정챔버로 이송시키는 과정과 웨이퍼에 식각 공정을 수행하는 과정에서 웨이퍼...   \n",
       "4      유기 발광셀에서 방출되는 빛을 한곳으로 집중시켜 광 이용 효율을 향상시키고, 인접 ...   \n",
       "...                                                  ...   \n",
       "14995                   본 발명에 의한 냉각 방습 배전함은 다음과 같이 구성된다.   \n",
       "14996  본 발명은 RF카드와 RF단말기간의 원활한 통신을 위하여 RF단말기에 추가될 기계적...   \n",
       "14997   본 고안은 음향신호의 송수신에 의해 기기를 제어하는 무전원 원격제어장치에 관한 것이다.   \n",
       "14998  본 발명은 통화 중에 시스템의 로드에 따라 실시간으로 단말의 FA를 변경하도록 하는...   \n",
       "14999  더 나아가서 납축전지 또는 리 이온전지는 제품의 수동적인 선택 스위치를 두어 사용자...   \n",
       "\n",
       "                                              references  \n",
       "0      이동통신 단말기에 표시되는 부가 컨 광고 데이터로 출력하여 함 단말기의 가격을 낮추...  \n",
       "1      상기 제9단 결정정된 주 밝기가 밝 경우에는, 상기 제 4, 6, 7 단계에서 판된...  \n",
       "2                    카메라가착 휴대폰 전화기 등에 설치된 발를 효율적으로 사용한다.  \n",
       "3      웨이퍼를 공정챔버로 이송하는 공정과 웨이퍼를 대한각공정을 진행하는 과정에서 웨이퍼 ...  \n",
       "4      유기발광부로부터 발출된 광 한 곳으로에 집시켜 광 이용 효율을 높시키고 인 인접한소...  \n",
       "...                                                  ...  \n",
       "14995                     본 발명에 따른 방습수습 배전함 다음과 같이 구성된다.  \n",
       "14996  본 발명은 RF카드와 RF단말기간의 원활한 통신을 위해 RF단말기에 부되는 수장 장...  \n",
       "14997  본 고안은 오향신호를 송수신을으로 의해 기기를 제어하는 무전원 원격제어장치에 관한 ...  \n",
       "14998  본 발명은 통화 중 시스템 부드에 따라 단으로 단말의 FA를 변경하도록 통화 통화중...  \n",
       "14999  나아가 나아가,,축전지나 리이온전지는 제품의 수동선 선택스치를 구어 사용자가로 하여...  \n",
       "\n",
       "[15000 rows x 3 columns]"
      ]
     },
     "execution_count": 32,
     "metadata": {},
     "output_type": "execute_result"
    }
   ],
   "source": [
    "source_texts = x_test\n",
    "\n",
    "df_result = pd.DataFrame({\n",
    "    \"source_texts\": source_texts,\n",
    "    \"target_texts\": target_texts,\n",
    "    \"references\": references,\n",
    "})\n",
    "df_result"
   ]
  },
  {
   "cell_type": "code",
   "execution_count": 33,
   "id": "b370b262-c807-45a8-b4fd-6bfe82ea6d0a",
   "metadata": {},
   "outputs": [],
   "source": [
    "file_name = \"results_of_{0}\".format(new_model_name)\n",
    "df_result.to_excel(\"{0}.xlsx\".format(file_name), index=False)\n",
    "df_result.to_csv(\"{0}.csv\".format(file_name), index=False)"
   ]
  },
  {
   "cell_type": "code",
   "execution_count": 34,
   "id": "64a9293a-7096-4dd3-9f12-26277facdf8b",
   "metadata": {},
   "outputs": [
    {
     "data": {
      "text/plain": [
       "0.7068739162535101"
      ]
     },
     "execution_count": 34,
     "metadata": {},
     "output_type": "execute_result"
    }
   ],
   "source": [
    "from nltk.translate.bleu_score import corpus_bleu\n",
    "\n",
    "# corpus_bleu 的结果更稳健，因为它是基于整个语料库的平均分数计算的，而 sentence_bleu 仅基于单个句子。\n",
    "# 注：nltk3.8.1和python 3.12有点问题，要么降低python版本，要么按照以下链接的指导去修改bleu_score.py文件\n",
    "# https://github.com/nltk/nltk/pull/3207\n",
    "# https://github.com/nltk/nltk/blob/develop/nltk/translate/bleu_score.py\n",
    "score = corpus_bleu([[reference] for reference in references], target_texts)\n",
    "score"
   ]
  }
 ],
 "metadata": {
  "kernelspec": {
   "display_name": "Python 3 (ipykernel)",
   "language": "python",
   "name": "python3"
  },
  "language_info": {
   "codemirror_mode": {
    "name": "ipython",
    "version": 3
   },
   "file_extension": ".py",
   "mimetype": "text/x-python",
   "name": "python",
   "nbconvert_exporter": "python",
   "pygments_lexer": "ipython3",
   "version": "3.12.3"
  }
 },
 "nbformat": 4,
 "nbformat_minor": 5
}

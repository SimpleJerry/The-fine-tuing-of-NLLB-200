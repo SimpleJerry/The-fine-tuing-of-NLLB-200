{
 "cells": [
  {
   "cell_type": "code",
   "execution_count": 1,
   "id": "2945eb74-9348-469d-9d7a-6c15824d59f5",
   "metadata": {},
   "outputs": [
    {
     "name": "stdout",
     "output_type": "stream",
     "text": [
      "Looking in indexes: http://mirrors.aliyun.com/pypi/simple\n",
      "Requirement already satisfied: openpyxl in ./miniconda3/lib/python3.12/site-packages (3.1.4)\n",
      "Requirement already satisfied: et-xmlfile in ./miniconda3/lib/python3.12/site-packages (from openpyxl) (1.1.0)\n",
      "\u001B[33mWARNING: Running pip as the 'root' user can result in broken permissions and conflicting behaviour with the system package manager. It is recommended to use a virtual environment instead: https://pip.pypa.io/warnings/venv\u001B[0m\u001B[33m\n",
      "\u001B[0m"
     ]
    }
   ],
   "source": [
    "!pip install openpyxl nltk"
   ]
  },
  {
   "cell_type": "code",
   "execution_count": 2,
   "id": "c7e717ef-951c-4a4d-8d4d-61f5a99dc4b6",
   "metadata": {
    "ExecuteTime": {
     "end_time": "2023-11-01T02:04:59.414262900Z",
     "start_time": "2023-11-01T02:04:05.062931400Z"
    },
    "editable": true,
    "slideshow": {
     "slide_type": ""
    },
    "tags": []
   },
   "outputs": [
    {
     "name": "stderr",
     "output_type": "stream",
     "text": [
      "Special tokens have been added in the vocabulary, make sure the associated word embeddings are fine-tuned or trained.\n"
     ]
    }
   ],
   "source": [
    "from transformers import AutoModelForSeq2SeqLM, AutoTokenizer\n",
    "\n",
    "model_dir = \"zh2ko_based_on_nllb-200-distilled-600M\"\n",
    "model = AutoModelForSeq2SeqLM.from_pretrained(model_dir, device_map=\"auto\")\n",
    "tokenizer = AutoTokenizer.from_pretrained(model_dir)"
   ]
  },
  {
   "cell_type": "code",
   "execution_count": 3,
   "id": "e74dd4e3-c5a0-4a4d-9194-284f18c00be6",
   "metadata": {
    "ExecuteTime": {
     "end_time": "2023-11-01T02:05:08.970541600Z",
     "start_time": "2023-11-01T02:04:59.545322800Z"
    }
   },
   "outputs": [],
   "source": [
    "from transformers import pipeline\n",
    "\n",
    "translator = pipeline(\"translation\", model=model, tokenizer=tokenizer,\n",
    "                      src_lang=tokenizer.src_lang,\n",
    "                      tgt_lang=tokenizer.tgt_lang,\n",
    "                      max_length=400)"
   ]
  },
  {
   "cell_type": "code",
   "execution_count": 4,
   "id": "2b369e42-1075-47ef-980e-c4d927571488",
   "metadata": {
    "ExecuteTime": {
     "end_time": "2023-11-01T02:05:12.487085400Z",
     "start_time": "2023-11-01T02:05:08.971517600Z"
    }
   },
   "outputs": [],
   "source": [
    "import pandas as pd\n",
    "\n",
    "test_data_path = \"data/test_data.csv\"\n",
    "df_test = pd.read_csv(test_data_path)\n",
    "\n",
    "source_texts = df_test[tokenizer.src_lang].to_list()  # Source Text (源文本)\n",
    "references = df_test[tokenizer.tgt_lang].to_list()  # Reference (参考)"
   ]
  },
  {
   "cell_type": "code",
   "execution_count": 5,
   "id": "018b7625-7198-49b0-a607-35b55a2eb7f8",
   "metadata": {
    "ExecuteTime": {
     "end_time": "2023-11-01T07:04:34.753560200Z",
     "start_time": "2023-11-01T02:05:12.488060600Z"
    }
   },
   "outputs": [
    {
     "data": {
      "application/vnd.jupyter.widget-view+json": {
       "model_id": "21b9bb371be84cbcad81645a8922181f",
       "version_major": 2,
       "version_minor": 0
      },
      "text/plain": [
       "  0%|          | 0/24000 [00:00<?, ?it/s]"
      ]
     },
     "metadata": {},
     "output_type": "display_data"
    },
    {
     "name": "stderr",
     "output_type": "stream",
     "text": [
      "You seem to be using the pipelines sequentially on GPU. In order to maximize efficiency please use a dataset\n"
     ]
    }
   ],
   "source": [
    "from tqdm.notebook import tqdm\n",
    "\n",
    "# 进行翻译并提取结果\n",
    "target_texts = [translator(item)[0] for item in tqdm(source_texts)]\n",
    "target_texts = [item['translation_text'] for item in target_texts]"
   ]
  },
  {
   "cell_type": "raw",
   "id": "5b8ef00e-7367-4f09-8a78-272808265ffb",
   "metadata": {},
   "source": [
    "注：按照报错提示应该使用如下方式，但实际上反而效果不佳（即使不分batch也一样）："
   ]
  },
  {
   "cell_type": "code",
   "execution_count": 6,
   "id": "8edbfbf3-c0b9-41c2-ac15-b8d6858b20d7",
   "metadata": {},
   "outputs": [],
   "source": [
    "# !pip install datasets"
   ]
  },
  {
   "cell_type": "code",
   "execution_count": 7,
   "id": "b3f6b404-a4f7-4876-9681-88f268f2ef74",
   "metadata": {},
   "outputs": [],
   "source": [
    "# from datasets import Dataset\n",
    "\n",
    "# # 创建 Dataset 对象\n",
    "# dataset = Dataset.from_dict({\"text\": source_texts})\n",
    "\n",
    "# # 定义翻译函数\n",
    "# def translate_batch(batch):\n",
    "#     translations = translator(batch[\"text\"])\n",
    "#     batch[\"translation_text\"] = [t[\"translation_text\"] for t in translations]\n",
    "#     return batch\n",
    "\n",
    "# # 使用 tqdm 显示进度条\n",
    "# translated_dataset = dataset.map(translate_batch, batched=True, batch_size=100, desc=\"Translating\")\n",
    "# target_texts = [item[\"translation_text\"] for item in translated_dataset]"
   ]
  },
  {
   "cell_type": "code",
   "execution_count": 8,
   "id": "64c832a9-c7e4-44cc-96ce-bc79c9f7ac7d",
   "metadata": {
    "ExecuteTime": {
     "end_time": "2023-11-01T07:04:35.106019800Z",
     "start_time": "2023-11-01T07:04:34.822626800Z"
    }
   },
   "outputs": [
    {
     "data": {
      "text/html": [
       "<div>\n",
       "<style scoped>\n",
       "    .dataframe tbody tr th:only-of-type {\n",
       "        vertical-align: middle;\n",
       "    }\n",
       "\n",
       "    .dataframe tbody tr th {\n",
       "        vertical-align: top;\n",
       "    }\n",
       "\n",
       "    .dataframe thead th {\n",
       "        text-align: right;\n",
       "    }\n",
       "</style>\n",
       "<table border=\"1\" class=\"dataframe\">\n",
       "  <thead>\n",
       "    <tr style=\"text-align: right;\">\n",
       "      <th></th>\n",
       "      <th>source_texts</th>\n",
       "      <th>target_texts</th>\n",
       "      <th>references</th>\n",
       "    </tr>\n",
       "  </thead>\n",
       "  <tbody>\n",
       "    <tr>\n",
       "      <th>0</th>\n",
       "      <td>当前的法规要求燃油经济性水平可以使汽油车每升行驶15公里左右,但2015年该标准将提高到18...</td>\n",
       "      <td>그러나 자동차를 주행하는 기준은은 15대 정도 정도 높일 수 있다.</td>\n",
       "      <td>현행 규제에서는 휘발유차의 경우 1ℓ당 약 15km를 주행할 수 있는 연비 수준을 ...</td>\n",
       "    </tr>\n",
       "    <tr>\n",
       "      <th>1</th>\n",
       "      <td>起亚汽车公开了以加强电动汽车和未来出行服务为核心的中长期未来战略\"Plan S\"</td>\n",
       "      <td>기아차차는 미래차 서비스 '플랜'을 강화한다.</td>\n",
       "      <td>기아자동차가 전기자동차와 미래 모빌리티 서비스 강화를 골자로 하는 중장기 미래 전략...</td>\n",
       "    </tr>\n",
       "    <tr>\n",
       "      <th>2</th>\n",
       "      <td>希望进行检查的顾客可以在现代汽车车辆管理应用程序\"MyCar Story\"或起亚汽车移动顾客...</td>\n",
       "      <td>차량 관리 프로그램인 '모차'K'를 할인해'를 원'을'를'를 원할한다.</td>\n",
       "      <td>점검을 희망하는 고객은 현대차 차량 관리 앱 '마이카 스토리' 또는 기아차 모바일 ...</td>\n",
       "    </tr>\n",
       "    <tr>\n",
       "      <th>3</th>\n",
       "      <td>进口汽车业界正在关注\"奥迪的回归\"在此前梅赛德斯-奔驰独占鳌头的市场会带来怎样的变化。</td>\n",
       "      <td>이 같은 시장에서 현대차가차가 '모국'의'가'가'가'가'가'가'가(주(주(주)가(주...</td>\n",
       "      <td>수입차업계는 '아우디의 귀환'이 그간 메르세데스-벤츠의 독주 체제였던 시장에 어떤 ...</td>\n",
       "    </tr>\n",
       "    <tr>\n",
       "      <th>4</th>\n",
       "      <td>比起内燃机,正在研究以电动汽车的电池、氢气电动车的氢气罐等环保车为主的对应方案。</td>\n",
       "      <td>내연기기기기기기기기기기기기기기기기기기기기기기기기기기기기기기기기기기기기기기기기기기기기...</td>\n",
       "      <td>내연기관보다 전기차의 배터리, 수소전기차의 수소탱크 등 친환경차 위주로 대응 방안을...</td>\n",
       "    </tr>\n",
       "    <tr>\n",
       "      <th>...</th>\n",
       "      <td>...</td>\n",
       "      <td>...</td>\n",
       "      <td>...</td>\n",
       "    </tr>\n",
       "    <tr>\n",
       "      <th>23995</th>\n",
       "      <td>但由于决定继续与现代汽车进行协商,因此现代汽车收购万都的可能性进一步增大。</td>\n",
       "      <td>그러나 현대차와 협의이해가 계속돼 더 많은 차종의 구매 가능성이 높아졌다.</td>\n",
       "      <td>그러나 현대자동차와는 계속 협상을 벌이기로 해 현대차가 만도를 인수할 가능성이 한층...</td>\n",
       "    </tr>\n",
       "    <tr>\n",
       "      <th>23996</th>\n",
       "      <td>起亚汽车介绍说,该款车型扩大了散热器护栅的大小,打破了前兆灯的界限,进化成了\"老虎脸\"形态。</td>\n",
       "      <td>자동차는 '대형화화'을 확대했다.</td>\n",
       "      <td>라디에이터 그릴의 크기를 키우고 헤드램프 경계를 허물어 '타이거 페이스'(호랑이 얼...</td>\n",
       "    </tr>\n",
       "    <tr>\n",
       "      <th>23997</th>\n",
       "      <td>另外,日产上月因\"新型冠状病毒\"关闭了主要市场的汽车展厅。</td>\n",
       "      <td>또 닛산은 '모형'차'로도'로'로'로'로'로'로'로'로'로'로 '모형형'로'로'로'...</td>\n",
       "      <td>또한 닛산은 지난달 코로나19로 인해 주요 시장의 자동차 전시장을 폐쇄했다.</td>\n",
       "    </tr>\n",
       "    <tr>\n",
       "      <th>23998</th>\n",
       "      <td>继之前推出3.0柴油版后,又增加了汽油版2.5涡轮增压发动机和3.5涡轮增压发动机,完成了共...</td>\n",
       "      <td>디젤 모델인 2.5을 추가했다.</td>\n",
       "      <td>앞서 3.0 디젤 모델을 출시한 데 이어 가솔린 모델의 2.5 터보, 3.5 터보 ...</td>\n",
       "    </tr>\n",
       "    <tr>\n",
       "      <th>23999</th>\n",
       "      <td>乐天汽车拍卖市场是以内需为对象,支援乐天汽车拍卖公司担保的600个拍卖会员公司销售二手车的二...</td>\n",
       "      <td>롯데자동차차는 중고차차차차차를 판매하는 플랫폼으로 지원한다.</td>\n",
       "      <td>롯데오토옥션 마켓은 내수를 대상으로 롯데오토옥션이 보증하는 600개 경매회원사의 중...</td>\n",
       "    </tr>\n",
       "  </tbody>\n",
       "</table>\n",
       "<p>24000 rows × 3 columns</p>\n",
       "</div>"
      ],
      "text/plain": [
       "                                            source_texts  \\\n",
       "0      当前的法规要求燃油经济性水平可以使汽油车每升行驶15公里左右,但2015年该标准将提高到18...   \n",
       "1               起亚汽车公开了以加强电动汽车和未来出行服务为核心的中长期未来战略\"Plan S\"   \n",
       "2      希望进行检查的顾客可以在现代汽车车辆管理应用程序\"MyCar Story\"或起亚汽车移动顾客...   \n",
       "3            进口汽车业界正在关注\"奥迪的回归\"在此前梅赛德斯-奔驰独占鳌头的市场会带来怎样的变化。   \n",
       "4               比起内燃机,正在研究以电动汽车的电池、氢气电动车的氢气罐等环保车为主的对应方案。   \n",
       "...                                                  ...   \n",
       "23995              但由于决定继续与现代汽车进行协商,因此现代汽车收购万都的可能性进一步增大。   \n",
       "23996     起亚汽车介绍说,该款车型扩大了散热器护栅的大小,打破了前兆灯的界限,进化成了\"老虎脸\"形态。   \n",
       "23997                      另外,日产上月因\"新型冠状病毒\"关闭了主要市场的汽车展厅。   \n",
       "23998  继之前推出3.0柴油版后,又增加了汽油版2.5涡轮增压发动机和3.5涡轮增压发动机,完成了共...   \n",
       "23999  乐天汽车拍卖市场是以内需为对象,支援乐天汽车拍卖公司担保的600个拍卖会员公司销售二手车的二...   \n",
       "\n",
       "                                            target_texts  \\\n",
       "0                  그러나 자동차를 주행하는 기준은은 15대 정도 정도 높일 수 있다.   \n",
       "1                              기아차차는 미래차 서비스 '플랜'을 강화한다.   \n",
       "2                차량 관리 프로그램인 '모차'K'를 할인해'를 원'을'를'를 원할한다.   \n",
       "3      이 같은 시장에서 현대차가차가 '모국'의'가'가'가'가'가'가'가(주(주(주)가(주...   \n",
       "4      내연기기기기기기기기기기기기기기기기기기기기기기기기기기기기기기기기기기기기기기기기기기기기...   \n",
       "...                                                  ...   \n",
       "23995          그러나 현대차와 협의이해가 계속돼 더 많은 차종의 구매 가능성이 높아졌다.   \n",
       "23996                                 자동차는 '대형화화'을 확대했다.   \n",
       "23997  또 닛산은 '모형'차'로도'로'로'로'로'로'로'로'로'로'로 '모형형'로'로'로'...   \n",
       "23998                                  디젤 모델인 2.5을 추가했다.   \n",
       "23999                  롯데자동차차는 중고차차차차차를 판매하는 플랫폼으로 지원한다.   \n",
       "\n",
       "                                              references  \n",
       "0      현행 규제에서는 휘발유차의 경우 1ℓ당 약 15km를 주행할 수 있는 연비 수준을 ...  \n",
       "1      기아자동차가 전기자동차와 미래 모빌리티 서비스 강화를 골자로 하는 중장기 미래 전략...  \n",
       "2      점검을 희망하는 고객은 현대차 차량 관리 앱 '마이카 스토리' 또는 기아차 모바일 ...  \n",
       "3      수입차업계는 '아우디의 귀환'이 그간 메르세데스-벤츠의 독주 체제였던 시장에 어떤 ...  \n",
       "4      내연기관보다 전기차의 배터리, 수소전기차의 수소탱크 등 친환경차 위주로 대응 방안을...  \n",
       "...                                                  ...  \n",
       "23995  그러나 현대자동차와는 계속 협상을 벌이기로 해 현대차가 만도를 인수할 가능성이 한층...  \n",
       "23996  라디에이터 그릴의 크기를 키우고 헤드램프 경계를 허물어 '타이거 페이스'(호랑이 얼...  \n",
       "23997         또한 닛산은 지난달 코로나19로 인해 주요 시장의 자동차 전시장을 폐쇄했다.  \n",
       "23998  앞서 3.0 디젤 모델을 출시한 데 이어 가솔린 모델의 2.5 터보, 3.5 터보 ...  \n",
       "23999  롯데오토옥션 마켓은 내수를 대상으로 롯데오토옥션이 보증하는 600개 경매회원사의 중...  \n",
       "\n",
       "[24000 rows x 3 columns]"
      ]
     },
     "execution_count": 9,
     "metadata": {},
     "output_type": "execute_result"
    }
   ],
   "source": [
    "df_result = pd.DataFrame({\n",
    "    \"source_texts\": source_texts,\n",
    "    \"target_texts\": target_texts,\n",
    "    \"references\": references,\n",
    "})\n",
    "df_result"
   ]
  },
  {
   "cell_type": "code",
   "execution_count": 10,
   "id": "9db63827-3666-429c-8bbc-a5b2cbd1025f",
   "metadata": {
    "ExecuteTime": {
     "end_time": "2023-11-01T07:04:37.334277200Z",
     "start_time": "2023-11-01T07:04:35.070988400Z"
    }
   },
   "outputs": [],
   "source": [
    "file_name = \"results_of_{0}\".format(model_dir.replace(\"/\", \"_\"))\n",
    "df_result.to_excel(\"{0}.xlsx\".format(file_name), index=False)\n",
    "df_result.to_csv(\"{0}.csv\".format(file_name), index=False)"
   ]
  },
  {
   "cell_type": "code",
   "execution_count": 11,
   "id": "14eef1e5-d78c-4b81-acc6-d5951b38c74f",
   "metadata": {},
   "outputs": [
    {
     "name": "stderr",
     "output_type": "stream",
     "text": [
      "/root/miniconda3/lib/python3.12/site-packages/nltk/translate/bleu_score.py:577: UserWarning: \n",
      "The hypothesis contains 0 counts of 2-gram overlaps.\n",
      "Therefore the BLEU score evaluates to 0, independently of\n",
      "how many N-gram overlaps of lower order it contains.\n",
      "Consider using lower n-gram order or use SmoothingFunction()\n",
      "  warnings.warn(_msg)\n",
      "/root/miniconda3/lib/python3.12/site-packages/nltk/translate/bleu_score.py:577: UserWarning: \n",
      "The hypothesis contains 0 counts of 3-gram overlaps.\n",
      "Therefore the BLEU score evaluates to 0, independently of\n",
      "how many N-gram overlaps of lower order it contains.\n",
      "Consider using lower n-gram order or use SmoothingFunction()\n",
      "  warnings.warn(_msg)\n",
      "/root/miniconda3/lib/python3.12/site-packages/nltk/translate/bleu_score.py:577: UserWarning: \n",
      "The hypothesis contains 0 counts of 4-gram overlaps.\n",
      "Therefore the BLEU score evaluates to 0, independently of\n",
      "how many N-gram overlaps of lower order it contains.\n",
      "Consider using lower n-gram order or use SmoothingFunction()\n",
      "  warnings.warn(_msg)\n"
     ]
    },
    {
     "data": {
      "text/plain": [
       "1.2477935535541866e-231"
      ]
     },
     "execution_count": 3,
     "metadata": {},
     "output_type": "execute_result"
    }
   ],
   "source": [
    "from nltk.translate.bleu_score import corpus_bleu\n",
    "\n",
    "# corpus_bleu 的结果更稳健，因为它是基于整个语料库的平均分数计算的，而 sentence_bleu 仅基于单个句子。\n",
    "# 注：nltk3.8.1和python 3.12有点问题，要么降低python版本，要么按照以下链接的指导去修改bleu_score.py文件\n",
    "# https://github.com/nltk/nltk/pull/3207\n",
    "# https://github.com/nltk/nltk/blob/develop/nltk/translate/bleu_score.py\n",
    "score = corpus_bleu([[reference] for reference in references], target_texts)\n",
    "score"
   ]
  }
 ],
 "metadata": {
  "kernelspec": {
   "display_name": "Python 3 (ipykernel)",
   "language": "python",
   "name": "python3"
  },
  "language_info": {
   "codemirror_mode": {
    "name": "ipython",
    "version": 3
   },
   "file_extension": ".py",
   "mimetype": "text/x-python",
   "name": "python",
   "nbconvert_exporter": "python",
   "pygments_lexer": "ipython3",
   "version": "3.12.3"
  }
 },
 "nbformat": 4,
 "nbformat_minor": 5
}
